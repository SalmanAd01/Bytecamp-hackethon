{
  "cells": [
    {
      "cell_type": "code",
      "execution_count": 2,
      "metadata": {
        "id": "sT3601ljNuwa"
      },
      "outputs": [],
      "source": [
        "import pandas as pd\n",
        "import numpy as np"
      ]
    },
    {
      "cell_type": "code",
      "execution_count": 3,
      "metadata": {
        "id": "VuVdU145OBKI"
      },
      "outputs": [],
      "source": [
        "df=pd.read_csv('./Crop_recommendation.csv')"
      ]
    },
    {
      "cell_type": "code",
      "execution_count": 4,
      "metadata": {
        "colab": {
          "base_uri": "https://localhost:8080/",
          "height": 206
        },
        "id": "njW2mLjcP3GI",
        "outputId": "06d74af9-3812-41b5-f013-06fba8535c98"
      },
      "outputs": [
        {
          "data": {
            "text/html": [
              "<div>\n",
              "<style scoped>\n",
              "    .dataframe tbody tr th:only-of-type {\n",
              "        vertical-align: middle;\n",
              "    }\n",
              "\n",
              "    .dataframe tbody tr th {\n",
              "        vertical-align: top;\n",
              "    }\n",
              "\n",
              "    .dataframe thead th {\n",
              "        text-align: right;\n",
              "    }\n",
              "</style>\n",
              "<table border=\"1\" class=\"dataframe\">\n",
              "  <thead>\n",
              "    <tr style=\"text-align: right;\">\n",
              "      <th></th>\n",
              "      <th>N</th>\n",
              "      <th>P</th>\n",
              "      <th>K</th>\n",
              "      <th>temperature</th>\n",
              "      <th>humidity</th>\n",
              "      <th>ph</th>\n",
              "      <th>rainfall</th>\n",
              "      <th>label</th>\n",
              "    </tr>\n",
              "  </thead>\n",
              "  <tbody>\n",
              "    <tr>\n",
              "      <th>0</th>\n",
              "      <td>90</td>\n",
              "      <td>42</td>\n",
              "      <td>43</td>\n",
              "      <td>20.879744</td>\n",
              "      <td>82.002744</td>\n",
              "      <td>6.502985</td>\n",
              "      <td>202.935536</td>\n",
              "      <td>rice</td>\n",
              "    </tr>\n",
              "    <tr>\n",
              "      <th>1</th>\n",
              "      <td>85</td>\n",
              "      <td>58</td>\n",
              "      <td>41</td>\n",
              "      <td>21.770462</td>\n",
              "      <td>80.319644</td>\n",
              "      <td>7.038096</td>\n",
              "      <td>226.655537</td>\n",
              "      <td>rice</td>\n",
              "    </tr>\n",
              "    <tr>\n",
              "      <th>2</th>\n",
              "      <td>60</td>\n",
              "      <td>55</td>\n",
              "      <td>44</td>\n",
              "      <td>23.004459</td>\n",
              "      <td>82.320763</td>\n",
              "      <td>7.840207</td>\n",
              "      <td>263.964248</td>\n",
              "      <td>rice</td>\n",
              "    </tr>\n",
              "    <tr>\n",
              "      <th>3</th>\n",
              "      <td>74</td>\n",
              "      <td>35</td>\n",
              "      <td>40</td>\n",
              "      <td>26.491096</td>\n",
              "      <td>80.158363</td>\n",
              "      <td>6.980401</td>\n",
              "      <td>242.864034</td>\n",
              "      <td>rice</td>\n",
              "    </tr>\n",
              "    <tr>\n",
              "      <th>4</th>\n",
              "      <td>78</td>\n",
              "      <td>42</td>\n",
              "      <td>42</td>\n",
              "      <td>20.130175</td>\n",
              "      <td>81.604873</td>\n",
              "      <td>7.628473</td>\n",
              "      <td>262.717340</td>\n",
              "      <td>rice</td>\n",
              "    </tr>\n",
              "  </tbody>\n",
              "</table>\n",
              "</div>"
            ],
            "text/plain": [
              "    N   P   K  temperature   humidity        ph    rainfall label\n",
              "0  90  42  43    20.879744  82.002744  6.502985  202.935536  rice\n",
              "1  85  58  41    21.770462  80.319644  7.038096  226.655537  rice\n",
              "2  60  55  44    23.004459  82.320763  7.840207  263.964248  rice\n",
              "3  74  35  40    26.491096  80.158363  6.980401  242.864034  rice\n",
              "4  78  42  42    20.130175  81.604873  7.628473  262.717340  rice"
            ]
          },
          "execution_count": 4,
          "metadata": {},
          "output_type": "execute_result"
        }
      ],
      "source": [
        "df.head()"
      ]
    },
    {
      "cell_type": "code",
      "execution_count": 5,
      "metadata": {
        "id": "NxJJsvWYP4i3"
      },
      "outputs": [],
      "source": [
        "X = df[['N', 'P','K','temperature', 'humidity', 'ph', 'rainfall']]\n",
        "y = df['label']"
      ]
    },
    {
      "cell_type": "code",
      "execution_count": 6,
      "metadata": {
        "id": "lcspwp8iRQQ5"
      },
      "outputs": [],
      "source": [
        "from sklearn.model_selection import train_test_split\n",
        "X_train,X_test,y_train,y_test=train_test_split(X,y,test_size=0.3,random_state=42)"
      ]
    },
    {
      "cell_type": "code",
      "execution_count": 7,
      "metadata": {
        "id": "d9svTj-RS55B"
      },
      "outputs": [],
      "source": [
        "from sklearn.preprocessing import MinMaxScaler\n",
        "norm=MinMaxScaler().fit(X_train)\n",
        "X_train_norm=norm.transform(X_train)\n",
        "X_test_norm=norm.transform(X_test)"
      ]
    },
    {
      "cell_type": "code",
      "execution_count": 8,
      "metadata": {
        "colab": {
          "base_uri": "https://localhost:8080/",
          "height": 74
        },
        "id": "TdO6VZ9-SP29",
        "outputId": "3bfc8c42-bc4a-4ea8-c8ff-793720eceb45"
      },
      "outputs": [
        {
          "data": {
            "text/html": [
              "<style>#sk-container-id-1 {color: black;background-color: white;}#sk-container-id-1 pre{padding: 0;}#sk-container-id-1 div.sk-toggleable {background-color: white;}#sk-container-id-1 label.sk-toggleable__label {cursor: pointer;display: block;width: 100%;margin-bottom: 0;padding: 0.3em;box-sizing: border-box;text-align: center;}#sk-container-id-1 label.sk-toggleable__label-arrow:before {content: \"▸\";float: left;margin-right: 0.25em;color: #696969;}#sk-container-id-1 label.sk-toggleable__label-arrow:hover:before {color: black;}#sk-container-id-1 div.sk-estimator:hover label.sk-toggleable__label-arrow:before {color: black;}#sk-container-id-1 div.sk-toggleable__content {max-height: 0;max-width: 0;overflow: hidden;text-align: left;background-color: #f0f8ff;}#sk-container-id-1 div.sk-toggleable__content pre {margin: 0.2em;color: black;border-radius: 0.25em;background-color: #f0f8ff;}#sk-container-id-1 input.sk-toggleable__control:checked~div.sk-toggleable__content {max-height: 200px;max-width: 100%;overflow: auto;}#sk-container-id-1 input.sk-toggleable__control:checked~label.sk-toggleable__label-arrow:before {content: \"▾\";}#sk-container-id-1 div.sk-estimator input.sk-toggleable__control:checked~label.sk-toggleable__label {background-color: #d4ebff;}#sk-container-id-1 div.sk-label input.sk-toggleable__control:checked~label.sk-toggleable__label {background-color: #d4ebff;}#sk-container-id-1 input.sk-hidden--visually {border: 0;clip: rect(1px 1px 1px 1px);clip: rect(1px, 1px, 1px, 1px);height: 1px;margin: -1px;overflow: hidden;padding: 0;position: absolute;width: 1px;}#sk-container-id-1 div.sk-estimator {font-family: monospace;background-color: #f0f8ff;border: 1px dotted black;border-radius: 0.25em;box-sizing: border-box;margin-bottom: 0.5em;}#sk-container-id-1 div.sk-estimator:hover {background-color: #d4ebff;}#sk-container-id-1 div.sk-parallel-item::after {content: \"\";width: 100%;border-bottom: 1px solid gray;flex-grow: 1;}#sk-container-id-1 div.sk-label:hover label.sk-toggleable__label {background-color: #d4ebff;}#sk-container-id-1 div.sk-serial::before {content: \"\";position: absolute;border-left: 1px solid gray;box-sizing: border-box;top: 0;bottom: 0;left: 50%;z-index: 0;}#sk-container-id-1 div.sk-serial {display: flex;flex-direction: column;align-items: center;background-color: white;padding-right: 0.2em;padding-left: 0.2em;position: relative;}#sk-container-id-1 div.sk-item {position: relative;z-index: 1;}#sk-container-id-1 div.sk-parallel {display: flex;align-items: stretch;justify-content: center;background-color: white;position: relative;}#sk-container-id-1 div.sk-item::before, #sk-container-id-1 div.sk-parallel-item::before {content: \"\";position: absolute;border-left: 1px solid gray;box-sizing: border-box;top: 0;bottom: 0;left: 50%;z-index: -1;}#sk-container-id-1 div.sk-parallel-item {display: flex;flex-direction: column;z-index: 1;position: relative;background-color: white;}#sk-container-id-1 div.sk-parallel-item:first-child::after {align-self: flex-end;width: 50%;}#sk-container-id-1 div.sk-parallel-item:last-child::after {align-self: flex-start;width: 50%;}#sk-container-id-1 div.sk-parallel-item:only-child::after {width: 0;}#sk-container-id-1 div.sk-dashed-wrapped {border: 1px dashed gray;margin: 0 0.4em 0.5em 0.4em;box-sizing: border-box;padding-bottom: 0.4em;background-color: white;}#sk-container-id-1 div.sk-label label {font-family: monospace;font-weight: bold;display: inline-block;line-height: 1.2em;}#sk-container-id-1 div.sk-label-container {text-align: center;}#sk-container-id-1 div.sk-container {/* jupyter's `normalize.less` sets `[hidden] { display: none; }` but bootstrap.min.css set `[hidden] { display: none !important; }` so we also need the `!important` here to be able to override the default hidden behavior on the sphinx rendered scikit-learn.org. See: https://github.com/scikit-learn/scikit-learn/issues/21755 */display: inline-block !important;position: relative;}#sk-container-id-1 div.sk-text-repr-fallback {display: none;}</style><div id=\"sk-container-id-1\" class=\"sk-top-container\"><div class=\"sk-text-repr-fallback\"><pre>SVC(C=1, kernel=&#x27;poly&#x27;)</pre><b>In a Jupyter environment, please rerun this cell to show the HTML representation or trust the notebook. <br />On GitHub, the HTML representation is unable to render, please try loading this page with nbviewer.org.</b></div><div class=\"sk-container\" hidden><div class=\"sk-item\"><div class=\"sk-estimator sk-toggleable\"><input class=\"sk-toggleable__control sk-hidden--visually\" id=\"sk-estimator-id-1\" type=\"checkbox\" checked><label for=\"sk-estimator-id-1\" class=\"sk-toggleable__label sk-toggleable__label-arrow\">SVC</label><div class=\"sk-toggleable__content\"><pre>SVC(C=1, kernel=&#x27;poly&#x27;)</pre></div></div></div></div></div>"
            ],
            "text/plain": [
              "SVC(C=1, kernel='poly')"
            ]
          },
          "execution_count": 8,
          "metadata": {},
          "output_type": "execute_result"
        }
      ],
      "source": [
        "from sklearn.svm import SVC\n",
        "sv=SVC(kernel='poly',degree=3,C=1)\n",
        "sv.fit(X_train_norm,y_train)\n"
      ]
    },
    {
      "cell_type": "code",
      "execution_count": 9,
      "metadata": {
        "colab": {
          "base_uri": "https://localhost:8080/"
        },
        "id": "S5sZOtU7UGVd",
        "outputId": "a9c99090-a789-43e2-c051-eec5361fcc38"
      },
      "outputs": [
        {
          "data": {
            "text/plain": [
              "0.9681818181818181"
            ]
          },
          "execution_count": 9,
          "metadata": {},
          "output_type": "execute_result"
        }
      ],
      "source": [
        "sv.score(X_test_norm,y_test)"
      ]
    },
    {
      "cell_type": "code",
      "execution_count": 10,
      "metadata": {
        "id": "73bBtynAUPBx"
      },
      "outputs": [
        {
          "data": {
            "text/plain": [
              "array(['muskmelon', 'watermelon', 'papaya', 'papaya', 'apple', 'mango',\n",
              "       'apple', 'mothbeans', 'mungbean', 'lentil', 'blackgram', 'coconut',\n",
              "       'pomegranate', 'jute', 'coconut', 'pomegranate', 'apple', 'maize',\n",
              "       'papaya', 'muskmelon', 'coffee', 'papaya', 'orange', 'papaya',\n",
              "       'chickpea', 'jute', 'mungbean', 'orange', 'pigeonpeas', 'rice',\n",
              "       'pomegranate', 'mothbeans', 'jute', 'lentil', 'jute', 'blackgram',\n",
              "       'jute', 'chickpea', 'chickpea', 'kidneybeans', 'papaya', 'mango',\n",
              "       'blackgram', 'maize', 'mungbean', 'maize', 'pigeonpeas', 'coconut',\n",
              "       'muskmelon', 'maize', 'blackgram', 'coffee', 'grapes', 'mungbean',\n",
              "       'coffee', 'kidneybeans', 'cotton', 'apple', 'banana', 'blackgram',\n",
              "       'watermelon', 'coconut', 'lentil', 'orange', 'papaya', 'blackgram',\n",
              "       'orange', 'rice', 'muskmelon', 'pigeonpeas', 'muskmelon',\n",
              "       'coconut', 'jute', 'banana', 'blackgram', 'papaya', 'banana',\n",
              "       'cotton', 'watermelon', 'orange', 'coffee', 'chickpea', 'jute',\n",
              "       'mothbeans', 'orange', 'mango', 'coffee', 'mothbeans', 'blackgram',\n",
              "       'pomegranate', 'maize', 'mothbeans', 'cotton', 'papaya',\n",
              "       'pigeonpeas', 'mothbeans', 'kidneybeans', 'coffee', 'blackgram',\n",
              "       'lentil', 'coconut', 'jute', 'orange', 'muskmelon', 'watermelon',\n",
              "       'kidneybeans', 'watermelon', 'banana', 'pigeonpeas', 'mothbeans',\n",
              "       'banana', 'jute', 'cotton', 'pomegranate', 'pigeonpeas',\n",
              "       'chickpea', 'maize', 'coconut', 'pomegranate', 'rice',\n",
              "       'pigeonpeas', 'grapes', 'blackgram', 'coconut', 'chickpea',\n",
              "       'blackgram', 'coconut', 'maize', 'banana', 'mothbeans', 'banana',\n",
              "       'kidneybeans', 'pomegranate', 'chickpea', 'coconut', 'orange',\n",
              "       'pigeonpeas', 'banana', 'banana', 'apple', 'kidneybeans',\n",
              "       'muskmelon', 'mungbean', 'mothbeans', 'coconut', 'cotton', 'apple',\n",
              "       'coconut', 'kidneybeans', 'mothbeans', 'mungbean', 'lentil',\n",
              "       'watermelon', 'mungbean', 'blackgram', 'pigeonpeas', 'pigeonpeas',\n",
              "       'kidneybeans', 'maize', 'jute', 'chickpea', 'apple', 'orange',\n",
              "       'cotton', 'rice', 'coconut', 'grapes', 'lentil', 'watermelon',\n",
              "       'grapes', 'grapes', 'blackgram', 'pomegranate', 'chickpea',\n",
              "       'coconut', 'maize', 'lentil', 'grapes', 'watermelon', 'jute',\n",
              "       'coffee', 'coffee', 'kidneybeans', 'jute', 'mothbeans',\n",
              "       'kidneybeans', 'banana', 'kidneybeans', 'coconut', 'papaya',\n",
              "       'papaya', 'mungbean', 'mango', 'pomegranate', 'watermelon',\n",
              "       'kidneybeans', 'maize', 'apple', 'blackgram', 'chickpea', 'grapes',\n",
              "       'grapes', 'banana', 'cotton', 'rice', 'pomegranate', 'mungbean',\n",
              "       'banana', 'jute', 'mungbean', 'maize', 'chickpea', 'chickpea',\n",
              "       'chickpea', 'apple', 'rice', 'kidneybeans', 'papaya', 'coffee',\n",
              "       'blackgram', 'kidneybeans', 'mango', 'mango', 'coconut', 'papaya',\n",
              "       'apple', 'chickpea', 'pomegranate', 'chickpea', 'muskmelon',\n",
              "       'apple', 'muskmelon', 'muskmelon', 'mango', 'mango', 'cotton',\n",
              "       'coconut', 'pomegranate', 'rice', 'muskmelon', 'coffee', 'papaya',\n",
              "       'lentil', 'maize', 'mango', 'muskmelon', 'pigeonpeas', 'mungbean',\n",
              "       'coffee', 'grapes', 'coconut', 'cotton', 'pigeonpeas', 'rice',\n",
              "       'apple', 'pomegranate', 'coffee', 'chickpea', 'cotton', 'jute',\n",
              "       'mango', 'banana', 'papaya', 'apple', 'chickpea', 'jute',\n",
              "       'pigeonpeas', 'mothbeans', 'mungbean', 'jute', 'pomegranate',\n",
              "       'grapes', 'mothbeans', 'papaya', 'maize', 'coconut', 'maize',\n",
              "       'chickpea', 'banana', 'jute', 'coconut', 'jute', 'mango',\n",
              "       'muskmelon', 'apple', 'banana', 'pigeonpeas', 'blackgram',\n",
              "       'orange', 'chickpea', 'watermelon', 'banana', 'apple', 'chickpea',\n",
              "       'coffee', 'pigeonpeas', 'orange', 'apple', 'coconut', 'papaya',\n",
              "       'watermelon', 'mothbeans', 'papaya', 'chickpea', 'pomegranate',\n",
              "       'chickpea', 'papaya', 'lentil', 'apple', 'pomegranate', 'chickpea',\n",
              "       'mango', 'chickpea', 'pomegranate', 'watermelon', 'kidneybeans',\n",
              "       'mungbean', 'muskmelon', 'watermelon', 'kidneybeans', 'muskmelon',\n",
              "       'mango', 'jute', 'blackgram', 'chickpea', 'banana', 'blackgram',\n",
              "       'pigeonpeas', 'papaya', 'kidneybeans', 'mungbean', 'coconut',\n",
              "       'cotton', 'grapes', 'apple', 'lentil', 'banana', 'jute', 'apple',\n",
              "       'pomegranate', 'apple', 'mungbean', 'muskmelon', 'coffee', 'jute',\n",
              "       'pigeonpeas', 'jute', 'kidneybeans', 'banana', 'maize', 'jute',\n",
              "       'maize', 'pigeonpeas', 'mango', 'kidneybeans', 'pomegranate',\n",
              "       'watermelon', 'blackgram', 'maize', 'rice', 'mothbeans',\n",
              "       'kidneybeans', 'mango', 'cotton', 'papaya', 'mothbeans', 'cotton',\n",
              "       'mungbean', 'orange', 'jute', 'blackgram', 'mungbean', 'coffee',\n",
              "       'banana', 'pigeonpeas', 'papaya', 'apple', 'pomegranate', 'maize',\n",
              "       'mango', 'coconut', 'apple', 'lentil', 'jute', 'mothbeans',\n",
              "       'lentil', 'coconut', 'blackgram', 'jute', 'mungbean', 'cotton',\n",
              "       'watermelon', 'apple', 'grapes', 'coconut', 'grapes', 'watermelon',\n",
              "       'jute', 'mango', 'mango', 'coffee', 'pomegranate', 'banana',\n",
              "       'grapes', 'jute', 'orange', 'cotton', 'mango', 'papaya',\n",
              "       'muskmelon', 'mothbeans', 'jute', 'chickpea', 'mothbeans',\n",
              "       'pomegranate', 'watermelon', 'mothbeans', 'cotton', 'papaya',\n",
              "       'watermelon', 'lentil', 'rice', 'coconut', 'mothbeans',\n",
              "       'mothbeans', 'maize', 'rice', 'maize', 'coconut', 'orange',\n",
              "       'pomegranate', 'kidneybeans', 'watermelon', 'mungbean',\n",
              "       'blackgram', 'rice', 'rice', 'cotton', 'cotton', 'pigeonpeas',\n",
              "       'orange', 'blackgram', 'lentil', 'banana', 'mango', 'maize',\n",
              "       'apple', 'pomegranate', 'mango', 'cotton', 'mungbean',\n",
              "       'pigeonpeas', 'chickpea', 'apple', 'coffee', 'pigeonpeas', 'jute',\n",
              "       'jute', 'jute', 'papaya', 'lentil', 'grapes', 'jute', 'orange',\n",
              "       'mungbean', 'mango', 'kidneybeans', 'grapes', 'mungbean', 'orange',\n",
              "       'pigeonpeas', 'banana', 'jute', 'pigeonpeas', 'pomegranate',\n",
              "       'coffee', 'muskmelon', 'blackgram', 'papaya', 'papaya',\n",
              "       'pomegranate', 'kidneybeans', 'chickpea', 'mungbean', 'mungbean',\n",
              "       'mango', 'pigeonpeas', 'muskmelon', 'mango', 'mothbeans',\n",
              "       'pigeonpeas', 'muskmelon', 'rice', 'pomegranate', 'muskmelon',\n",
              "       'pigeonpeas', 'apple', 'mungbean', 'jute', 'kidneybeans', 'apple',\n",
              "       'rice', 'mango', 'papaya', 'mothbeans', 'cotton', 'pomegranate',\n",
              "       'pigeonpeas', 'papaya', 'lentil', 'maize', 'chickpea', 'muskmelon',\n",
              "       'cotton', 'kidneybeans', 'chickpea', 'mungbean', 'coffee',\n",
              "       'coffee', 'orange', 'watermelon', 'orange', 'grapes', 'coffee',\n",
              "       'pigeonpeas', 'mango', 'apple', 'mango', 'pomegranate', 'coffee',\n",
              "       'pigeonpeas', 'coffee', 'grapes', 'cotton', 'pomegranate',\n",
              "       'papaya', 'apple', 'blackgram', 'pigeonpeas', 'watermelon',\n",
              "       'papaya', 'blackgram', 'grapes', 'lentil', 'jute', 'coffee',\n",
              "       'papaya', 'chickpea', 'coffee', 'jute', 'mothbeans', 'pomegranate',\n",
              "       'papaya', 'pigeonpeas', 'apple', 'kidneybeans', 'orange',\n",
              "       'mothbeans', 'rice', 'mungbean', 'watermelon', 'pomegranate',\n",
              "       'coconut', 'coconut', 'jute', 'pomegranate', 'kidneybeans',\n",
              "       'mothbeans', 'jute', 'kidneybeans', 'rice', 'mothbeans', 'papaya',\n",
              "       'pomegranate', 'orange', 'chickpea', 'jute', 'pomegranate',\n",
              "       'cotton', 'mothbeans', 'mungbean', 'grapes', 'mungbean', 'lentil',\n",
              "       'cotton', 'kidneybeans', 'mango', 'muskmelon', 'kidneybeans',\n",
              "       'orange', 'mango', 'maize', 'jute', 'coffee', 'cotton', 'maize',\n",
              "       'lentil', 'kidneybeans', 'pomegranate', 'papaya', 'rice',\n",
              "       'pigeonpeas', 'muskmelon', 'mungbean', 'kidneybeans', 'maize',\n",
              "       'jute', 'kidneybeans', 'chickpea', 'cotton', 'mothbeans', 'apple',\n",
              "       'papaya', 'pomegranate', 'cotton', 'mango', 'grapes', 'mango',\n",
              "       'jute', 'coffee', 'cotton', 'mothbeans', 'coconut', 'coconut',\n",
              "       'coconut', 'apple', 'orange', 'mango', 'mango', 'orange', 'banana',\n",
              "       'apple', 'grapes', 'blackgram', 'kidneybeans', 'grapes', 'cotton',\n",
              "       'lentil', 'banana', 'mothbeans', 'apple', 'jute', 'lentil',\n",
              "       'coffee', 'orange', 'lentil', 'blackgram', 'banana', 'kidneybeans',\n",
              "       'pomegranate', 'jute', 'papaya', 'lentil', 'coconut',\n",
              "       'kidneybeans', 'kidneybeans', 'mothbeans', 'papaya', 'chickpea',\n",
              "       'watermelon'], dtype=object)"
            ]
          },
          "execution_count": 10,
          "metadata": {},
          "output_type": "execute_result"
        }
      ],
      "source": [
        "sv.predict(X_test_norm)"
      ]
    },
    {
      "cell_type": "code",
      "execution_count": 11,
      "metadata": {
        "id": "HZCa_bHgUSD7"
      },
      "outputs": [],
      "source": [
        "import pickle\n",
        "filename='crop_rec.pkl'\n",
        "pickle.dump(sv,open(filename,'wb'))"
      ]
    },
    {
      "cell_type": "code",
      "execution_count": 12,
      "metadata": {
        "id": "QcW3cCMnWi0i"
      },
      "outputs": [
        {
          "data": {
            "text/html": [
              "<div>\n",
              "<style scoped>\n",
              "    .dataframe tbody tr th:only-of-type {\n",
              "        vertical-align: middle;\n",
              "    }\n",
              "\n",
              "    .dataframe tbody tr th {\n",
              "        vertical-align: top;\n",
              "    }\n",
              "\n",
              "    .dataframe thead th {\n",
              "        text-align: right;\n",
              "    }\n",
              "</style>\n",
              "<table border=\"1\" class=\"dataframe\">\n",
              "  <thead>\n",
              "    <tr style=\"text-align: right;\">\n",
              "      <th></th>\n",
              "      <th>N</th>\n",
              "      <th>P</th>\n",
              "      <th>K</th>\n",
              "      <th>temperature</th>\n",
              "      <th>humidity</th>\n",
              "      <th>ph</th>\n",
              "      <th>rainfall</th>\n",
              "      <th>label</th>\n",
              "    </tr>\n",
              "  </thead>\n",
              "  <tbody>\n",
              "    <tr>\n",
              "      <th>0</th>\n",
              "      <td>90</td>\n",
              "      <td>42</td>\n",
              "      <td>43</td>\n",
              "      <td>20.879744</td>\n",
              "      <td>82.002744</td>\n",
              "      <td>6.502985</td>\n",
              "      <td>202.935536</td>\n",
              "      <td>rice</td>\n",
              "    </tr>\n",
              "    <tr>\n",
              "      <th>1</th>\n",
              "      <td>85</td>\n",
              "      <td>58</td>\n",
              "      <td>41</td>\n",
              "      <td>21.770462</td>\n",
              "      <td>80.319644</td>\n",
              "      <td>7.038096</td>\n",
              "      <td>226.655537</td>\n",
              "      <td>rice</td>\n",
              "    </tr>\n",
              "    <tr>\n",
              "      <th>2</th>\n",
              "      <td>60</td>\n",
              "      <td>55</td>\n",
              "      <td>44</td>\n",
              "      <td>23.004459</td>\n",
              "      <td>82.320763</td>\n",
              "      <td>7.840207</td>\n",
              "      <td>263.964248</td>\n",
              "      <td>rice</td>\n",
              "    </tr>\n",
              "    <tr>\n",
              "      <th>3</th>\n",
              "      <td>74</td>\n",
              "      <td>35</td>\n",
              "      <td>40</td>\n",
              "      <td>26.491096</td>\n",
              "      <td>80.158363</td>\n",
              "      <td>6.980401</td>\n",
              "      <td>242.864034</td>\n",
              "      <td>rice</td>\n",
              "    </tr>\n",
              "    <tr>\n",
              "      <th>4</th>\n",
              "      <td>78</td>\n",
              "      <td>42</td>\n",
              "      <td>42</td>\n",
              "      <td>20.130175</td>\n",
              "      <td>81.604873</td>\n",
              "      <td>7.628473</td>\n",
              "      <td>262.717340</td>\n",
              "      <td>rice</td>\n",
              "    </tr>\n",
              "  </tbody>\n",
              "</table>\n",
              "</div>"
            ],
            "text/plain": [
              "    N   P   K  temperature   humidity        ph    rainfall label\n",
              "0  90  42  43    20.879744  82.002744  6.502985  202.935536  rice\n",
              "1  85  58  41    21.770462  80.319644  7.038096  226.655537  rice\n",
              "2  60  55  44    23.004459  82.320763  7.840207  263.964248  rice\n",
              "3  74  35  40    26.491096  80.158363  6.980401  242.864034  rice\n",
              "4  78  42  42    20.130175  81.604873  7.628473  262.717340  rice"
            ]
          },
          "execution_count": 12,
          "metadata": {},
          "output_type": "execute_result"
        }
      ],
      "source": [
        "df.head()"
      ]
    },
    {
      "cell_type": "code",
      "execution_count": 13,
      "metadata": {},
      "outputs": [
        {
          "data": {
            "text/plain": [
              "22"
            ]
          },
          "execution_count": 13,
          "metadata": {},
          "output_type": "execute_result"
        }
      ],
      "source": [
        "df.label.nunique()"
      ]
    },
    {
      "cell_type": "code",
      "execution_count": 14,
      "metadata": {},
      "outputs": [],
      "source": [
        "from sklearn.neighbors import KNeighborsClassifier  "
      ]
    },
    {
      "cell_type": "code",
      "execution_count": 15,
      "metadata": {},
      "outputs": [
        {
          "data": {
            "text/html": [
              "<style>#sk-container-id-2 {color: black;background-color: white;}#sk-container-id-2 pre{padding: 0;}#sk-container-id-2 div.sk-toggleable {background-color: white;}#sk-container-id-2 label.sk-toggleable__label {cursor: pointer;display: block;width: 100%;margin-bottom: 0;padding: 0.3em;box-sizing: border-box;text-align: center;}#sk-container-id-2 label.sk-toggleable__label-arrow:before {content: \"▸\";float: left;margin-right: 0.25em;color: #696969;}#sk-container-id-2 label.sk-toggleable__label-arrow:hover:before {color: black;}#sk-container-id-2 div.sk-estimator:hover label.sk-toggleable__label-arrow:before {color: black;}#sk-container-id-2 div.sk-toggleable__content {max-height: 0;max-width: 0;overflow: hidden;text-align: left;background-color: #f0f8ff;}#sk-container-id-2 div.sk-toggleable__content pre {margin: 0.2em;color: black;border-radius: 0.25em;background-color: #f0f8ff;}#sk-container-id-2 input.sk-toggleable__control:checked~div.sk-toggleable__content {max-height: 200px;max-width: 100%;overflow: auto;}#sk-container-id-2 input.sk-toggleable__control:checked~label.sk-toggleable__label-arrow:before {content: \"▾\";}#sk-container-id-2 div.sk-estimator input.sk-toggleable__control:checked~label.sk-toggleable__label {background-color: #d4ebff;}#sk-container-id-2 div.sk-label input.sk-toggleable__control:checked~label.sk-toggleable__label {background-color: #d4ebff;}#sk-container-id-2 input.sk-hidden--visually {border: 0;clip: rect(1px 1px 1px 1px);clip: rect(1px, 1px, 1px, 1px);height: 1px;margin: -1px;overflow: hidden;padding: 0;position: absolute;width: 1px;}#sk-container-id-2 div.sk-estimator {font-family: monospace;background-color: #f0f8ff;border: 1px dotted black;border-radius: 0.25em;box-sizing: border-box;margin-bottom: 0.5em;}#sk-container-id-2 div.sk-estimator:hover {background-color: #d4ebff;}#sk-container-id-2 div.sk-parallel-item::after {content: \"\";width: 100%;border-bottom: 1px solid gray;flex-grow: 1;}#sk-container-id-2 div.sk-label:hover label.sk-toggleable__label {background-color: #d4ebff;}#sk-container-id-2 div.sk-serial::before {content: \"\";position: absolute;border-left: 1px solid gray;box-sizing: border-box;top: 0;bottom: 0;left: 50%;z-index: 0;}#sk-container-id-2 div.sk-serial {display: flex;flex-direction: column;align-items: center;background-color: white;padding-right: 0.2em;padding-left: 0.2em;position: relative;}#sk-container-id-2 div.sk-item {position: relative;z-index: 1;}#sk-container-id-2 div.sk-parallel {display: flex;align-items: stretch;justify-content: center;background-color: white;position: relative;}#sk-container-id-2 div.sk-item::before, #sk-container-id-2 div.sk-parallel-item::before {content: \"\";position: absolute;border-left: 1px solid gray;box-sizing: border-box;top: 0;bottom: 0;left: 50%;z-index: -1;}#sk-container-id-2 div.sk-parallel-item {display: flex;flex-direction: column;z-index: 1;position: relative;background-color: white;}#sk-container-id-2 div.sk-parallel-item:first-child::after {align-self: flex-end;width: 50%;}#sk-container-id-2 div.sk-parallel-item:last-child::after {align-self: flex-start;width: 50%;}#sk-container-id-2 div.sk-parallel-item:only-child::after {width: 0;}#sk-container-id-2 div.sk-dashed-wrapped {border: 1px dashed gray;margin: 0 0.4em 0.5em 0.4em;box-sizing: border-box;padding-bottom: 0.4em;background-color: white;}#sk-container-id-2 div.sk-label label {font-family: monospace;font-weight: bold;display: inline-block;line-height: 1.2em;}#sk-container-id-2 div.sk-label-container {text-align: center;}#sk-container-id-2 div.sk-container {/* jupyter's `normalize.less` sets `[hidden] { display: none; }` but bootstrap.min.css set `[hidden] { display: none !important; }` so we also need the `!important` here to be able to override the default hidden behavior on the sphinx rendered scikit-learn.org. See: https://github.com/scikit-learn/scikit-learn/issues/21755 */display: inline-block !important;position: relative;}#sk-container-id-2 div.sk-text-repr-fallback {display: none;}</style><div id=\"sk-container-id-2\" class=\"sk-top-container\"><div class=\"sk-text-repr-fallback\"><pre>KNeighborsClassifier(algorithm=&#x27;ball_tree&#x27;, n_neighbors=1530,\n",
              "                     weights=&#x27;distance&#x27;)</pre><b>In a Jupyter environment, please rerun this cell to show the HTML representation or trust the notebook. <br />On GitHub, the HTML representation is unable to render, please try loading this page with nbviewer.org.</b></div><div class=\"sk-container\" hidden><div class=\"sk-item\"><div class=\"sk-estimator sk-toggleable\"><input class=\"sk-toggleable__control sk-hidden--visually\" id=\"sk-estimator-id-2\" type=\"checkbox\" checked><label for=\"sk-estimator-id-2\" class=\"sk-toggleable__label sk-toggleable__label-arrow\">KNeighborsClassifier</label><div class=\"sk-toggleable__content\"><pre>KNeighborsClassifier(algorithm=&#x27;ball_tree&#x27;, n_neighbors=1530,\n",
              "                     weights=&#x27;distance&#x27;)</pre></div></div></div></div></div>"
            ],
            "text/plain": [
              "KNeighborsClassifier(algorithm='ball_tree', n_neighbors=1530,\n",
              "                     weights='distance')"
            ]
          },
          "execution_count": 15,
          "metadata": {},
          "output_type": "execute_result"
        }
      ],
      "source": [
        "classifier= KNeighborsClassifier(n_neighbors=1530, algorithm='ball_tree', weights='distance')  \n",
        "classifier.fit(X_train, y_train)  "
      ]
    },
    {
      "cell_type": "code",
      "execution_count": 16,
      "metadata": {},
      "outputs": [],
      "source": [
        "y_pred= classifier.predict(X_test)  "
      ]
    },
    {
      "cell_type": "code",
      "execution_count": 17,
      "metadata": {},
      "outputs": [
        {
          "name": "stderr",
          "output_type": "stream",
          "text": [
            "c:\\Users\\salman\\OneDrive\\Desktop\\Bytecamp-hackethon\\env\\lib\\site-packages\\sklearn\\base.py:439: UserWarning: X does not have valid feature names, but KNeighborsClassifier was fitted with feature names\n",
            "  warnings.warn(\n"
          ]
        },
        {
          "data": {
            "text/plain": [
              "array(['muskmelon'], dtype=object)"
            ]
          },
          "execution_count": 17,
          "metadata": {},
          "output_type": "execute_result"
        }
      ],
      "source": [
        "classifier.predict([X_test.iloc[0]])"
      ]
    },
    {
      "cell_type": "code",
      "execution_count": 18,
      "metadata": {},
      "outputs": [
        {
          "data": {
            "text/plain": [
              "(2200, 8)"
            ]
          },
          "execution_count": 18,
          "metadata": {},
          "output_type": "execute_result"
        }
      ],
      "source": [
        "df.shape"
      ]
    },
    {
      "cell_type": "code",
      "execution_count": 19,
      "metadata": {},
      "outputs": [
        {
          "data": {
            "text/plain": [
              "0.9015151515151515"
            ]
          },
          "execution_count": 19,
          "metadata": {},
          "output_type": "execute_result"
        }
      ],
      "source": [
        "classifier.score(X_test,y_test)"
      ]
    },
    {
      "cell_type": "code",
      "execution_count": 20,
      "metadata": {},
      "outputs": [
        {
          "name": "stderr",
          "output_type": "stream",
          "text": [
            "c:\\Users\\salman\\OneDrive\\Desktop\\Bytecamp-hackethon\\env\\lib\\site-packages\\sklearn\\base.py:439: UserWarning: X does not have valid feature names, but KNeighborsClassifier was fitted with feature names\n",
            "  warnings.warn(\n"
          ]
        }
      ],
      "source": [
        "distances, indices = classifier.kneighbors([X_test.iloc[0]], n_neighbors=5)\n",
        "rec = []\n",
        "for i in indices[0]:\n",
        "    # if df.iloc[i] != X_test.iloc[0]:\n",
        "    rec.append(df.iloc[i]['label'])"
      ]
    },
    {
      "cell_type": "code",
      "execution_count": 21,
      "metadata": {},
      "outputs": [
        {
          "data": {
            "text/plain": [
              "['chickpea', 'mungbean', 'mungbean', 'watermelon', 'mothbeans']"
            ]
          },
          "execution_count": 21,
          "metadata": {},
          "output_type": "execute_result"
        }
      ],
      "source": [
        "rec"
      ]
    },
    {
      "cell_type": "code",
      "execution_count": 22,
      "metadata": {},
      "outputs": [],
      "source": [
        "def save_model(model, model_name):\n",
        "    with open('./'+model_name+'.pkl', 'wb') as file:\n",
        "        pickle.dump(model, file)"
      ]
    },
    {
      "cell_type": "code",
      "execution_count": 23,
      "metadata": {},
      "outputs": [],
      "source": [
        "save_model(classifier, 'crop_rec')"
      ]
    },
    {
      "cell_type": "code",
      "execution_count": 24,
      "metadata": {},
      "outputs": [
        {
          "data": {
            "text/html": [
              "<div>\n",
              "<style scoped>\n",
              "    .dataframe tbody tr th:only-of-type {\n",
              "        vertical-align: middle;\n",
              "    }\n",
              "\n",
              "    .dataframe tbody tr th {\n",
              "        vertical-align: top;\n",
              "    }\n",
              "\n",
              "    .dataframe thead th {\n",
              "        text-align: right;\n",
              "    }\n",
              "</style>\n",
              "<table border=\"1\" class=\"dataframe\">\n",
              "  <thead>\n",
              "    <tr style=\"text-align: right;\">\n",
              "      <th></th>\n",
              "      <th>N</th>\n",
              "      <th>P</th>\n",
              "      <th>K</th>\n",
              "      <th>temperature</th>\n",
              "      <th>humidity</th>\n",
              "      <th>ph</th>\n",
              "      <th>rainfall</th>\n",
              "    </tr>\n",
              "  </thead>\n",
              "  <tbody>\n",
              "    <tr>\n",
              "      <th>1451</th>\n",
              "      <td>101</td>\n",
              "      <td>17</td>\n",
              "      <td>47</td>\n",
              "      <td>29.494014</td>\n",
              "      <td>94.729813</td>\n",
              "      <td>6.185053</td>\n",
              "      <td>26.308209</td>\n",
              "    </tr>\n",
              "    <tr>\n",
              "      <th>1334</th>\n",
              "      <td>98</td>\n",
              "      <td>8</td>\n",
              "      <td>51</td>\n",
              "      <td>26.179346</td>\n",
              "      <td>86.522581</td>\n",
              "      <td>6.259336</td>\n",
              "      <td>49.430510</td>\n",
              "    </tr>\n",
              "    <tr>\n",
              "      <th>1761</th>\n",
              "      <td>59</td>\n",
              "      <td>62</td>\n",
              "      <td>49</td>\n",
              "      <td>43.360515</td>\n",
              "      <td>93.351916</td>\n",
              "      <td>6.941497</td>\n",
              "      <td>114.778071</td>\n",
              "    </tr>\n",
              "    <tr>\n",
              "      <th>1735</th>\n",
              "      <td>44</td>\n",
              "      <td>60</td>\n",
              "      <td>55</td>\n",
              "      <td>34.280461</td>\n",
              "      <td>90.555616</td>\n",
              "      <td>6.825371</td>\n",
              "      <td>98.540477</td>\n",
              "    </tr>\n",
              "    <tr>\n",
              "      <th>1576</th>\n",
              "      <td>30</td>\n",
              "      <td>137</td>\n",
              "      <td>200</td>\n",
              "      <td>22.914300</td>\n",
              "      <td>90.704756</td>\n",
              "      <td>5.603413</td>\n",
              "      <td>118.604465</td>\n",
              "    </tr>\n",
              "    <tr>\n",
              "      <th>...</th>\n",
              "      <td>...</td>\n",
              "      <td>...</td>\n",
              "      <td>...</td>\n",
              "      <td>...</td>\n",
              "      <td>...</td>\n",
              "      <td>...</td>\n",
              "      <td>...</td>\n",
              "    </tr>\n",
              "    <tr>\n",
              "      <th>398</th>\n",
              "      <td>27</td>\n",
              "      <td>63</td>\n",
              "      <td>19</td>\n",
              "      <td>20.934099</td>\n",
              "      <td>21.189301</td>\n",
              "      <td>5.562202</td>\n",
              "      <td>133.191442</td>\n",
              "    </tr>\n",
              "    <tr>\n",
              "      <th>584</th>\n",
              "      <td>20</td>\n",
              "      <td>50</td>\n",
              "      <td>22</td>\n",
              "      <td>30.996947</td>\n",
              "      <td>46.426937</td>\n",
              "      <td>9.406888</td>\n",
              "      <td>38.315979</td>\n",
              "    </tr>\n",
              "    <tr>\n",
              "      <th>1702</th>\n",
              "      <td>45</td>\n",
              "      <td>47</td>\n",
              "      <td>55</td>\n",
              "      <td>38.419163</td>\n",
              "      <td>91.142204</td>\n",
              "      <td>6.751453</td>\n",
              "      <td>119.265388</td>\n",
              "    </tr>\n",
              "    <tr>\n",
              "      <th>292</th>\n",
              "      <td>39</td>\n",
              "      <td>76</td>\n",
              "      <td>76</td>\n",
              "      <td>19.968375</td>\n",
              "      <td>15.573244</td>\n",
              "      <td>8.135901</td>\n",
              "      <td>69.157591</td>\n",
              "    </tr>\n",
              "    <tr>\n",
              "      <th>1344</th>\n",
              "      <td>103</td>\n",
              "      <td>16</td>\n",
              "      <td>49</td>\n",
              "      <td>24.067315</td>\n",
              "      <td>81.640753</td>\n",
              "      <td>6.915717</td>\n",
              "      <td>51.752124</td>\n",
              "    </tr>\n",
              "  </tbody>\n",
              "</table>\n",
              "<p>660 rows × 7 columns</p>\n",
              "</div>"
            ],
            "text/plain": [
              "        N    P    K  temperature   humidity        ph    rainfall\n",
              "1451  101   17   47    29.494014  94.729813  6.185053   26.308209\n",
              "1334   98    8   51    26.179346  86.522581  6.259336   49.430510\n",
              "1761   59   62   49    43.360515  93.351916  6.941497  114.778071\n",
              "1735   44   60   55    34.280461  90.555616  6.825371   98.540477\n",
              "1576   30  137  200    22.914300  90.704756  5.603413  118.604465\n",
              "...   ...  ...  ...          ...        ...       ...         ...\n",
              "398    27   63   19    20.934099  21.189301  5.562202  133.191442\n",
              "584    20   50   22    30.996947  46.426937  9.406888   38.315979\n",
              "1702   45   47   55    38.419163  91.142204  6.751453  119.265388\n",
              "292    39   76   76    19.968375  15.573244  8.135901   69.157591\n",
              "1344  103   16   49    24.067315  81.640753  6.915717   51.752124\n",
              "\n",
              "[660 rows x 7 columns]"
            ]
          },
          "execution_count": 24,
          "metadata": {},
          "output_type": "execute_result"
        }
      ],
      "source": [
        "X_test"
      ]
    },
    {
      "cell_type": "code",
      "execution_count": 25,
      "metadata": {},
      "outputs": [],
      "source": [
        "RICE=np.array(X_test.iloc[0])"
      ]
    },
    {
      "cell_type": "code",
      "execution_count": 27,
      "metadata": {},
      "outputs": [
        {
          "data": {
            "text/plain": [
              "array(['rice', 'maize', 'chickpea', 'kidneybeans', 'pigeonpeas',\n",
              "       'mothbeans', 'mungbean', 'blackgram', 'lentil', 'pomegranate',\n",
              "       'banana', 'mango', 'grapes', 'watermelon', 'muskmelon', 'apple',\n",
              "       'orange', 'papaya', 'coconut', 'cotton', 'jute', 'coffee'],\n",
              "      dtype=object)"
            ]
          },
          "execution_count": 27,
          "metadata": {},
          "output_type": "execute_result"
        }
      ],
      "source": [
        "df['label'].unique()"
      ]
    },
    {
      "cell_type": "code",
      "execution_count": 28,
      "metadata": {},
      "outputs": [
        {
          "data": {
            "text/plain": [
              "140"
            ]
          },
          "execution_count": 28,
          "metadata": {},
          "output_type": "execute_result"
        }
      ],
      "source": [
        "df['N'].max()"
      ]
    },
    {
      "cell_type": "code",
      "execution_count": 29,
      "metadata": {},
      "outputs": [
        {
          "data": {
            "text/plain": [
              "(660, 7)"
            ]
          },
          "execution_count": 29,
          "metadata": {},
          "output_type": "execute_result"
        }
      ],
      "source": [
        "from random import randint\n",
        "X_test.shape"
      ]
    },
    {
      "cell_type": "code",
      "execution_count": 30,
      "metadata": {},
      "outputs": [],
      "source": [
        "data_frame  = {\n",
        "    'BLACK' : X_test.iloc[randint(0,50)],\n",
        "    'YELLOW' : X_test.iloc[randint(51,100)],\n",
        "    'CINDER' : X_test.iloc[randint(101,150)],\n",
        "    'PEAT' : X_test.iloc[randint(151,200)],\n",
        "    'LATERITE' : X_test.iloc[randint(250,650)]\n",
        "}"
      ]
    },
    {
      "cell_type": "code",
      "execution_count": 31,
      "metadata": {},
      "outputs": [
        {
          "data": {
            "text/plain": [
              "{'BLACK': N              90.000000\n",
              " P              49.000000\n",
              " K              21.000000\n",
              " temperature    24.840167\n",
              " humidity       68.358457\n",
              " ph              6.472523\n",
              " rainfall       74.054749\n",
              " Name: 111, dtype: float64,\n",
              " 'YELLOW': N              118.000000\n",
              " P               21.000000\n",
              " K               34.000000\n",
              " temperature     24.385346\n",
              " humidity        64.725431\n",
              " ph               7.234258\n",
              " rainfall       119.632411\n",
              " Name: 2131, dtype: float64,\n",
              " 'CINDER': N              117.000000\n",
              " P               82.000000\n",
              " K               45.000000\n",
              " temperature     25.293915\n",
              " humidity        79.291222\n",
              " ph               5.614471\n",
              " rainfall       105.422025\n",
              " Name: 1090, dtype: float64,\n",
              " 'PEAT': N               54.000000\n",
              " P               67.000000\n",
              " K               52.000000\n",
              " temperature     35.676673\n",
              " humidity        93.306419\n",
              " ph               6.586107\n",
              " rainfall       141.338117\n",
              " Name: 1769, dtype: float64,\n",
              " 'LATERITE': N               29.000000\n",
              " P              128.000000\n",
              " K              198.000000\n",
              " temperature     22.440750\n",
              " humidity        92.707851\n",
              " ph               5.685062\n",
              " rainfall       121.497733\n",
              " Name: 1521, dtype: float64}"
            ]
          },
          "execution_count": 31,
          "metadata": {},
          "output_type": "execute_result"
        }
      ],
      "source": [
        "data_frame"
      ]
    },
    {
      "cell_type": "code",
      "execution_count": 32,
      "metadata": {},
      "outputs": [],
      "source": [
        "to_save_ang = pd.DataFrame(data_frame)\n",
        "# to_save_ang = to_save_ang.T"
      ]
    },
    {
      "cell_type": "code",
      "execution_count": 33,
      "metadata": {},
      "outputs": [
        {
          "data": {
            "text/plain": [
              "N              90.000000\n",
              "P              49.000000\n",
              "K              21.000000\n",
              "temperature    24.840167\n",
              "humidity       68.358457\n",
              "ph              6.472523\n",
              "rainfall       74.054749\n",
              "Name: BLACK, dtype: float64"
            ]
          },
          "execution_count": 33,
          "metadata": {},
          "output_type": "execute_result"
        }
      ],
      "source": [
        "to_save_ang['BLACK']"
      ]
    },
    {
      "cell_type": "code",
      "execution_count": 34,
      "metadata": {},
      "outputs": [],
      "source": [
        "to_save_ang.to_csv('to_save_ang.csv', index=False)"
      ]
    },
    {
      "cell_type": "code",
      "execution_count": 35,
      "metadata": {},
      "outputs": [
        {
          "name": "stderr",
          "output_type": "stream",
          "text": [
            "c:\\Users\\salman\\OneDrive\\Desktop\\Bytecamp-hackethon\\env\\lib\\site-packages\\sklearn\\base.py:439: UserWarning: X does not have valid feature names, but KNeighborsClassifier was fitted with feature names\n",
            "  warnings.warn(\n"
          ]
        }
      ],
      "source": [
        "distances, indices = classifier.kneighbors([to_save_ang['BLACK']], n_neighbors=5)\n",
        "rec = []\n",
        "for i in indices[0]:\n",
        "    # if df.iloc[i] != X_test.iloc[0]:\n",
        "    rec.append(df.iloc[i]['label'])"
      ]
    },
    {
      "cell_type": "code",
      "execution_count": 36,
      "metadata": {},
      "outputs": [
        {
          "data": {
            "text/plain": [
              "['blackgram', 'maize', 'pomegranate', 'pigeonpeas', 'apple']"
            ]
          },
          "execution_count": 36,
          "metadata": {},
          "output_type": "execute_result"
        }
      ],
      "source": [
        "rec"
      ]
    },
    {
      "cell_type": "code",
      "execution_count": 37,
      "metadata": {},
      "outputs": [],
      "source": [
        "AVG_SOIL_VALUES = pd.read_csv(\"to_save_ang.csv\")"
      ]
    },
    {
      "cell_type": "code",
      "execution_count": 39,
      "metadata": {},
      "outputs": [
        {
          "data": {
            "text/plain": [
              "0    90.000000\n",
              "1    49.000000\n",
              "2    21.000000\n",
              "3    24.840167\n",
              "4    68.358457\n",
              "5     6.472523\n",
              "6    74.054749\n",
              "Name: BLACK, dtype: float64"
            ]
          },
          "execution_count": 39,
          "metadata": {},
          "output_type": "execute_result"
        }
      ],
      "source": [
        "AVG_SOIL_VALUES['BLACK']"
      ]
    },
    {
      "cell_type": "code",
      "execution_count": 40,
      "metadata": {},
      "outputs": [
        {
          "name": "stderr",
          "output_type": "stream",
          "text": [
            "c:\\Users\\salman\\OneDrive\\Desktop\\Bytecamp-hackethon\\env\\lib\\site-packages\\sklearn\\base.py:439: UserWarning: X does not have valid feature names, but KNeighborsClassifier was fitted with feature names\n",
            "  warnings.warn(\n"
          ]
        }
      ],
      "source": [
        "distances, indices = classifier.kneighbors([AVG_SOIL_VALUES['BLACK']], n_neighbors=5)\n",
        "rec = []\n",
        "for i in indices[0]:\n",
        "    # if df.iloc[i] != X_test.iloc[0]:\n",
        "    rec.append(df.iloc[i]['label'])"
      ]
    },
    {
      "cell_type": "code",
      "execution_count": 42,
      "metadata": {},
      "outputs": [],
      "source": [
        "def load_model(model_name):\n",
        "    with open(model_name, \"rb\") as file:\n",
        "        model = pickle.load(file)\n",
        "    return model\n",
        "CROPS_MODEL = load_model(\"crop_rec.pkl\")"
      ]
    },
    {
      "cell_type": "code",
      "execution_count": 46,
      "metadata": {},
      "outputs": [
        {
          "name": "stderr",
          "output_type": "stream",
          "text": [
            "c:\\Users\\salman\\OneDrive\\Desktop\\Bytecamp-hackethon\\env\\lib\\site-packages\\sklearn\\base.py:439: UserWarning: X does not have valid feature names, but KNeighborsClassifier was fitted with feature names\n",
            "  warnings.warn(\n"
          ]
        }
      ],
      "source": [
        "distances, indices = CROPS_MODEL.kneighbors([AVG_SOIL_VALUES['BLACK']], n_neighbors=5)\n",
        "rec = []\n",
        "for i in indices[0]:\n",
        "    # if df.iloc[i] != X_test.iloc[0]:\n",
        "    rec.append(df.iloc[i]['label'])"
      ]
    },
    {
      "cell_type": "code",
      "execution_count": 44,
      "metadata": {},
      "outputs": [
        {
          "data": {
            "text/plain": [
              "['blackgram', 'maize', 'pomegranate', 'pigeonpeas', 'apple']"
            ]
          },
          "execution_count": 44,
          "metadata": {},
          "output_type": "execute_result"
        }
      ],
      "source": [
        "rec"
      ]
    },
    {
      "cell_type": "code",
      "execution_count": 47,
      "metadata": {},
      "outputs": [],
      "source": [
        "nx = np.array([AVG_SOIL_VALUES['BLACK']])"
      ]
    },
    {
      "cell_type": "code",
      "execution_count": 49,
      "metadata": {},
      "outputs": [],
      "source": [
        "t = nx.reshape(1, -1)"
      ]
    },
    {
      "cell_type": "code",
      "execution_count": 50,
      "metadata": {},
      "outputs": [
        {
          "name": "stderr",
          "output_type": "stream",
          "text": [
            "c:\\Users\\salman\\OneDrive\\Desktop\\Bytecamp-hackethon\\env\\lib\\site-packages\\sklearn\\base.py:439: UserWarning: X does not have valid feature names, but KNeighborsClassifier was fitted with feature names\n",
            "  warnings.warn(\n"
          ]
        }
      ],
      "source": [
        "distances, indices = CROPS_MODEL.kneighbors(t, n_neighbors=5)\n",
        "rec = []\n",
        "for i in indices[0]:\n",
        "    # if df.iloc[i] != X_test.iloc[0]:\n",
        "    rec.append(df.iloc[i]['label'])"
      ]
    },
    {
      "cell_type": "code",
      "execution_count": 51,
      "metadata": {},
      "outputs": [
        {
          "data": {
            "text/plain": [
              "['blackgram', 'maize', 'pomegranate', 'pigeonpeas', 'apple']"
            ]
          },
          "execution_count": 51,
          "metadata": {},
          "output_type": "execute_result"
        }
      ],
      "source": [
        "rec"
      ]
    },
    {
      "cell_type": "code",
      "execution_count": null,
      "metadata": {},
      "outputs": [],
      "source": []
    }
  ],
  "metadata": {
    "colab": {
      "provenance": []
    },
    "kernelspec": {
      "display_name": "Python 3",
      "name": "python3"
    },
    "language_info": {
      "codemirror_mode": {
        "name": "ipython",
        "version": 3
      },
      "file_extension": ".py",
      "mimetype": "text/x-python",
      "name": "python",
      "nbconvert_exporter": "python",
      "pygments_lexer": "ipython3",
      "version": "3.9.7"
    }
  },
  "nbformat": 4,
  "nbformat_minor": 0
}
