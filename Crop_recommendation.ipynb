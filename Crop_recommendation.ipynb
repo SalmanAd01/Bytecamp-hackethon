{
  "cells": [
    {
      "cell_type": "code",
      "execution_count": 88,
      "metadata": {
        "id": "sT3601ljNuwa"
      },
      "outputs": [],
      "source": [
        "import pandas as pd\n",
        "import numpy as np"
      ]
    },
    {
      "cell_type": "code",
      "execution_count": 89,
      "metadata": {
        "id": "VuVdU145OBKI"
      },
      "outputs": [],
      "source": [
        "df=pd.read_csv('./to_save_ang_li.csv')"
      ]
    },
    {
      "cell_type": "code",
      "execution_count": 90,
      "metadata": {
        "colab": {
          "base_uri": "https://localhost:8080/",
          "height": 206
        },
        "id": "njW2mLjcP3GI",
        "outputId": "06d74af9-3812-41b5-f013-06fba8535c98"
      },
      "outputs": [
        {
          "data": {
            "text/html": [
              "<div>\n",
              "<style scoped>\n",
              "    .dataframe tbody tr th:only-of-type {\n",
              "        vertical-align: middle;\n",
              "    }\n",
              "\n",
              "    .dataframe tbody tr th {\n",
              "        vertical-align: top;\n",
              "    }\n",
              "\n",
              "    .dataframe thead th {\n",
              "        text-align: right;\n",
              "    }\n",
              "</style>\n",
              "<table border=\"1\" class=\"dataframe\">\n",
              "  <thead>\n",
              "    <tr style=\"text-align: right;\">\n",
              "      <th></th>\n",
              "      <th>N</th>\n",
              "      <th>P</th>\n",
              "      <th>K</th>\n",
              "      <th>temperature</th>\n",
              "      <th>humidity</th>\n",
              "      <th>ph</th>\n",
              "      <th>rainfall</th>\n",
              "      <th>label</th>\n",
              "    </tr>\n",
              "  </thead>\n",
              "  <tbody>\n",
              "    <tr>\n",
              "      <th>0</th>\n",
              "      <td>90</td>\n",
              "      <td>42</td>\n",
              "      <td>43</td>\n",
              "      <td>20.879744</td>\n",
              "      <td>82.002744</td>\n",
              "      <td>6.502985</td>\n",
              "      <td>202.935536</td>\n",
              "      <td>rice</td>\n",
              "    </tr>\n",
              "    <tr>\n",
              "      <th>1</th>\n",
              "      <td>85</td>\n",
              "      <td>58</td>\n",
              "      <td>41</td>\n",
              "      <td>21.770462</td>\n",
              "      <td>80.319644</td>\n",
              "      <td>7.038096</td>\n",
              "      <td>226.655537</td>\n",
              "      <td>rice</td>\n",
              "    </tr>\n",
              "    <tr>\n",
              "      <th>2</th>\n",
              "      <td>60</td>\n",
              "      <td>55</td>\n",
              "      <td>44</td>\n",
              "      <td>23.004459</td>\n",
              "      <td>82.320763</td>\n",
              "      <td>7.840207</td>\n",
              "      <td>263.964248</td>\n",
              "      <td>rice</td>\n",
              "    </tr>\n",
              "    <tr>\n",
              "      <th>3</th>\n",
              "      <td>74</td>\n",
              "      <td>35</td>\n",
              "      <td>40</td>\n",
              "      <td>26.491096</td>\n",
              "      <td>80.158363</td>\n",
              "      <td>6.980401</td>\n",
              "      <td>242.864034</td>\n",
              "      <td>rice</td>\n",
              "    </tr>\n",
              "    <tr>\n",
              "      <th>4</th>\n",
              "      <td>78</td>\n",
              "      <td>42</td>\n",
              "      <td>42</td>\n",
              "      <td>20.130175</td>\n",
              "      <td>81.604873</td>\n",
              "      <td>7.628473</td>\n",
              "      <td>262.717340</td>\n",
              "      <td>rice</td>\n",
              "    </tr>\n",
              "  </tbody>\n",
              "</table>\n",
              "</div>"
            ],
            "text/plain": [
              "    N   P   K  temperature   humidity        ph    rainfall label\n",
              "0  90  42  43    20.879744  82.002744  6.502985  202.935536  rice\n",
              "1  85  58  41    21.770462  80.319644  7.038096  226.655537  rice\n",
              "2  60  55  44    23.004459  82.320763  7.840207  263.964248  rice\n",
              "3  74  35  40    26.491096  80.158363  6.980401  242.864034  rice\n",
              "4  78  42  42    20.130175  81.604873  7.628473  262.717340  rice"
            ]
          },
          "execution_count": 90,
          "metadata": {},
          "output_type": "execute_result"
        }
      ],
      "source": [
        "df.head()"
      ]
    },
    {
      "cell_type": "code",
      "execution_count": 91,
      "metadata": {
        "id": "NxJJsvWYP4i3"
      },
      "outputs": [],
      "source": [
        "X = df[['N', 'P','K','temperature', 'humidity', 'ph', 'rainfall']]\n",
        "y = df['label']"
      ]
    },
    {
      "cell_type": "code",
      "execution_count": 92,
      "metadata": {
        "id": "lcspwp8iRQQ5"
      },
      "outputs": [],
      "source": [
        "from sklearn.model_selection import train_test_split\n",
        "X_train,X_test,y_train,y_test=train_test_split(X,y,test_size=0.3,random_state=42)"
      ]
    },
    {
      "cell_type": "code",
      "execution_count": 93,
      "metadata": {
        "id": "d9svTj-RS55B"
      },
      "outputs": [],
      "source": [
        "from sklearn.preprocessing import MinMaxScaler\n",
        "norm=MinMaxScaler().fit(X_train)\n",
        "X_train_norm=norm.transform(X_train)\n",
        "X_test_norm=norm.transform(X_test)"
      ]
    },
    {
      "cell_type": "code",
      "execution_count": 94,
      "metadata": {
        "colab": {
          "base_uri": "https://localhost:8080/",
          "height": 74
        },
        "id": "TdO6VZ9-SP29",
        "outputId": "3bfc8c42-bc4a-4ea8-c8ff-793720eceb45"
      },
      "outputs": [
        {
          "data": {
            "text/html": [
              "<style>#sk-container-id-3 {color: black;background-color: white;}#sk-container-id-3 pre{padding: 0;}#sk-container-id-3 div.sk-toggleable {background-color: white;}#sk-container-id-3 label.sk-toggleable__label {cursor: pointer;display: block;width: 100%;margin-bottom: 0;padding: 0.3em;box-sizing: border-box;text-align: center;}#sk-container-id-3 label.sk-toggleable__label-arrow:before {content: \"▸\";float: left;margin-right: 0.25em;color: #696969;}#sk-container-id-3 label.sk-toggleable__label-arrow:hover:before {color: black;}#sk-container-id-3 div.sk-estimator:hover label.sk-toggleable__label-arrow:before {color: black;}#sk-container-id-3 div.sk-toggleable__content {max-height: 0;max-width: 0;overflow: hidden;text-align: left;background-color: #f0f8ff;}#sk-container-id-3 div.sk-toggleable__content pre {margin: 0.2em;color: black;border-radius: 0.25em;background-color: #f0f8ff;}#sk-container-id-3 input.sk-toggleable__control:checked~div.sk-toggleable__content {max-height: 200px;max-width: 100%;overflow: auto;}#sk-container-id-3 input.sk-toggleable__control:checked~label.sk-toggleable__label-arrow:before {content: \"▾\";}#sk-container-id-3 div.sk-estimator input.sk-toggleable__control:checked~label.sk-toggleable__label {background-color: #d4ebff;}#sk-container-id-3 div.sk-label input.sk-toggleable__control:checked~label.sk-toggleable__label {background-color: #d4ebff;}#sk-container-id-3 input.sk-hidden--visually {border: 0;clip: rect(1px 1px 1px 1px);clip: rect(1px, 1px, 1px, 1px);height: 1px;margin: -1px;overflow: hidden;padding: 0;position: absolute;width: 1px;}#sk-container-id-3 div.sk-estimator {font-family: monospace;background-color: #f0f8ff;border: 1px dotted black;border-radius: 0.25em;box-sizing: border-box;margin-bottom: 0.5em;}#sk-container-id-3 div.sk-estimator:hover {background-color: #d4ebff;}#sk-container-id-3 div.sk-parallel-item::after {content: \"\";width: 100%;border-bottom: 1px solid gray;flex-grow: 1;}#sk-container-id-3 div.sk-label:hover label.sk-toggleable__label {background-color: #d4ebff;}#sk-container-id-3 div.sk-serial::before {content: \"\";position: absolute;border-left: 1px solid gray;box-sizing: border-box;top: 0;bottom: 0;left: 50%;z-index: 0;}#sk-container-id-3 div.sk-serial {display: flex;flex-direction: column;align-items: center;background-color: white;padding-right: 0.2em;padding-left: 0.2em;position: relative;}#sk-container-id-3 div.sk-item {position: relative;z-index: 1;}#sk-container-id-3 div.sk-parallel {display: flex;align-items: stretch;justify-content: center;background-color: white;position: relative;}#sk-container-id-3 div.sk-item::before, #sk-container-id-3 div.sk-parallel-item::before {content: \"\";position: absolute;border-left: 1px solid gray;box-sizing: border-box;top: 0;bottom: 0;left: 50%;z-index: -1;}#sk-container-id-3 div.sk-parallel-item {display: flex;flex-direction: column;z-index: 1;position: relative;background-color: white;}#sk-container-id-3 div.sk-parallel-item:first-child::after {align-self: flex-end;width: 50%;}#sk-container-id-3 div.sk-parallel-item:last-child::after {align-self: flex-start;width: 50%;}#sk-container-id-3 div.sk-parallel-item:only-child::after {width: 0;}#sk-container-id-3 div.sk-dashed-wrapped {border: 1px dashed gray;margin: 0 0.4em 0.5em 0.4em;box-sizing: border-box;padding-bottom: 0.4em;background-color: white;}#sk-container-id-3 div.sk-label label {font-family: monospace;font-weight: bold;display: inline-block;line-height: 1.2em;}#sk-container-id-3 div.sk-label-container {text-align: center;}#sk-container-id-3 div.sk-container {/* jupyter's `normalize.less` sets `[hidden] { display: none; }` but bootstrap.min.css set `[hidden] { display: none !important; }` so we also need the `!important` here to be able to override the default hidden behavior on the sphinx rendered scikit-learn.org. See: https://github.com/scikit-learn/scikit-learn/issues/21755 */display: inline-block !important;position: relative;}#sk-container-id-3 div.sk-text-repr-fallback {display: none;}</style><div id=\"sk-container-id-3\" class=\"sk-top-container\"><div class=\"sk-text-repr-fallback\"><pre>SVC(C=1, kernel=&#x27;poly&#x27;)</pre><b>In a Jupyter environment, please rerun this cell to show the HTML representation or trust the notebook. <br />On GitHub, the HTML representation is unable to render, please try loading this page with nbviewer.org.</b></div><div class=\"sk-container\" hidden><div class=\"sk-item\"><div class=\"sk-estimator sk-toggleable\"><input class=\"sk-toggleable__control sk-hidden--visually\" id=\"sk-estimator-id-3\" type=\"checkbox\" checked><label for=\"sk-estimator-id-3\" class=\"sk-toggleable__label sk-toggleable__label-arrow\">SVC</label><div class=\"sk-toggleable__content\"><pre>SVC(C=1, kernel=&#x27;poly&#x27;)</pre></div></div></div></div></div>"
            ],
            "text/plain": [
              "SVC(C=1, kernel='poly')"
            ]
          },
          "execution_count": 94,
          "metadata": {},
          "output_type": "execute_result"
        }
      ],
      "source": [
        "from sklearn.svm import SVC\n",
        "sv=SVC(kernel='poly',degree=3,C=1)\n",
        "sv.fit(X_train_norm,y_train)\n"
      ]
    },
    {
      "cell_type": "code",
      "execution_count": 95,
      "metadata": {
        "colab": {
          "base_uri": "https://localhost:8080/"
        },
        "id": "S5sZOtU7UGVd",
        "outputId": "a9c99090-a789-43e2-c051-eec5361fcc38"
      },
      "outputs": [
        {
          "data": {
            "text/plain": [
              "0.9696969696969697"
            ]
          },
          "execution_count": 95,
          "metadata": {},
          "output_type": "execute_result"
        }
      ],
      "source": [
        "sv.score(X_test_norm,y_test)"
      ]
    },
    {
      "cell_type": "code",
      "execution_count": 96,
      "metadata": {
        "id": "73bBtynAUPBx"
      },
      "outputs": [
        {
          "data": {
            "text/plain": [
              "array(['muskmelon', 'watermelon', 'beetroot', 'beetroot', 'apple',\n",
              "       'mango', 'apple', 'pineapple', 'tomato', 'rice', 'cabbage',\n",
              "       'coconut', 'green-capsicum', 'green-chilli', 'coconut',\n",
              "       'green-capsicum', 'apple', 'maize', 'beetroot', 'muskmelon',\n",
              "       'coffee', 'beetroot', 'radish', 'beetroot', 'spinach',\n",
              "       'green-chilli', 'tomato', 'radish', 'potato', 'rice',\n",
              "       'green-capsicum', 'pineapple', 'green-chilli', 'rice',\n",
              "       'green-chilli', 'cabbage', 'green-chilli', 'spinach', 'spinach',\n",
              "       'cucumber', 'beetroot', 'mango', 'cabbage', 'maize', 'tomato',\n",
              "       'maize', 'potato', 'coconut', 'muskmelon', 'maize', 'cabbage',\n",
              "       'coffee', 'bottle-gourd', 'tomato', 'coffee', 'cucumber', 'cotton',\n",
              "       'apple', 'onion', 'rice', 'watermelon', 'coconut', 'rice',\n",
              "       'radish', 'beetroot', 'cabbage', 'radish', 'rice', 'muskmelon',\n",
              "       'potato', 'muskmelon', 'coconut', 'green-chilli', 'onion',\n",
              "       'cabbage', 'beetroot', 'onion', 'cotton', 'watermelon', 'radish',\n",
              "       'coffee', 'spinach', 'green-chilli', 'pineapple', 'radish',\n",
              "       'mango', 'coffee', 'pineapple', 'cabbage', 'green-capsicum',\n",
              "       'maize', 'pineapple', 'cotton', 'beetroot', 'potato', 'pineapple',\n",
              "       'cucumber', 'coffee', 'cabbage', 'rice', 'coconut', 'green-chilli',\n",
              "       'radish', 'muskmelon', 'watermelon', 'cucumber', 'watermelon',\n",
              "       'onion', 'potato', 'pineapple', 'onion', 'green-chilli', 'cotton',\n",
              "       'green-capsicum', 'potato', 'spinach', 'maize', 'coconut',\n",
              "       'green-capsicum', 'rice', 'potato', 'bottle-gourd', 'cabbage',\n",
              "       'coconut', 'spinach', 'cabbage', 'coconut', 'maize', 'onion',\n",
              "       'pineapple', 'onion', 'cucumber', 'green-capsicum', 'spinach',\n",
              "       'coconut', 'radish', 'potato', 'onion', 'onion', 'apple',\n",
              "       'cucumber', 'muskmelon', 'tomato', 'pineapple', 'coconut',\n",
              "       'cotton', 'apple', 'coconut', 'cucumber', 'pineapple', 'tomato',\n",
              "       'rice', 'watermelon', 'tomato', 'cabbage', 'potato', 'potato',\n",
              "       'cucumber', 'maize', 'green-chilli', 'spinach', 'apple', 'radish',\n",
              "       'cotton', 'rice', 'coconut', 'bottle-gourd', 'rice', 'watermelon',\n",
              "       'bottle-gourd', 'bottle-gourd', 'cabbage', 'green-capsicum',\n",
              "       'spinach', 'coconut', 'maize', 'rice', 'bottle-gourd',\n",
              "       'watermelon', 'green-chilli', 'coffee', 'coffee', 'cucumber',\n",
              "       'green-chilli', 'pineapple', 'cucumber', 'onion', 'cucumber',\n",
              "       'coconut', 'beetroot', 'beetroot', 'tomato', 'mango',\n",
              "       'green-capsicum', 'watermelon', 'cucumber', 'maize', 'apple',\n",
              "       'cabbage', 'spinach', 'bottle-gourd', 'bottle-gourd', 'onion',\n",
              "       'cotton', 'rice', 'green-capsicum', 'tomato', 'onion',\n",
              "       'green-chilli', 'tomato', 'maize', 'spinach', 'spinach', 'spinach',\n",
              "       'apple', 'green-chilli', 'cucumber', 'beetroot', 'coffee',\n",
              "       'cabbage', 'cucumber', 'mango', 'mango', 'coconut', 'beetroot',\n",
              "       'apple', 'spinach', 'green-capsicum', 'spinach', 'muskmelon',\n",
              "       'apple', 'muskmelon', 'muskmelon', 'mango', 'mango', 'cotton',\n",
              "       'coconut', 'green-capsicum', 'rice', 'muskmelon', 'coffee',\n",
              "       'beetroot', 'rice', 'maize', 'mango', 'muskmelon', 'potato',\n",
              "       'tomato', 'coffee', 'bottle-gourd', 'coconut', 'cotton', 'potato',\n",
              "       'rice', 'apple', 'green-capsicum', 'coffee', 'spinach', 'cotton',\n",
              "       'green-chilli', 'mango', 'onion', 'beetroot', 'apple', 'spinach',\n",
              "       'rice', 'potato', 'pineapple', 'tomato', 'green-chilli',\n",
              "       'green-capsicum', 'bottle-gourd', 'pineapple', 'beetroot', 'maize',\n",
              "       'coconut', 'maize', 'spinach', 'onion', 'green-chilli', 'coconut',\n",
              "       'green-chilli', 'mango', 'muskmelon', 'apple', 'onion', 'potato',\n",
              "       'cabbage', 'radish', 'spinach', 'watermelon', 'onion', 'apple',\n",
              "       'spinach', 'coffee', 'potato', 'radish', 'apple', 'coconut',\n",
              "       'beetroot', 'watermelon', 'pineapple', 'beetroot', 'spinach',\n",
              "       'green-capsicum', 'spinach', 'beetroot', 'rice', 'apple',\n",
              "       'green-capsicum', 'spinach', 'mango', 'spinach', 'green-capsicum',\n",
              "       'watermelon', 'cucumber', 'tomato', 'muskmelon', 'watermelon',\n",
              "       'cucumber', 'muskmelon', 'mango', 'green-chilli', 'cabbage',\n",
              "       'spinach', 'onion', 'cabbage', 'potato', 'beetroot', 'cucumber',\n",
              "       'tomato', 'coconut', 'cotton', 'bottle-gourd', 'apple', 'rice',\n",
              "       'onion', 'green-chilli', 'apple', 'green-capsicum', 'apple',\n",
              "       'tomato', 'muskmelon', 'coffee', 'green-chilli', 'potato',\n",
              "       'green-chilli', 'cucumber', 'onion', 'maize', 'green-chilli',\n",
              "       'maize', 'potato', 'mango', 'cucumber', 'green-capsicum',\n",
              "       'watermelon', 'cabbage', 'maize', 'rice', 'pineapple', 'cucumber',\n",
              "       'mango', 'cotton', 'beetroot', 'pineapple', 'cotton', 'tomato',\n",
              "       'radish', 'rice', 'cabbage', 'tomato', 'coffee', 'onion', 'potato',\n",
              "       'beetroot', 'apple', 'green-capsicum', 'maize', 'mango', 'coconut',\n",
              "       'apple', 'rice', 'green-chilli', 'pineapple', 'rice', 'coconut',\n",
              "       'cabbage', 'green-chilli', 'tomato', 'cotton', 'watermelon',\n",
              "       'apple', 'bottle-gourd', 'coconut', 'bottle-gourd', 'watermelon',\n",
              "       'rice', 'mango', 'mango', 'coffee', 'green-capsicum', 'onion',\n",
              "       'bottle-gourd', 'green-chilli', 'radish', 'cotton', 'mango',\n",
              "       'beetroot', 'muskmelon', 'pineapple', 'green-chilli', 'spinach',\n",
              "       'pineapple', 'green-capsicum', 'watermelon', 'pineapple', 'cotton',\n",
              "       'beetroot', 'watermelon', 'rice', 'rice', 'coconut', 'pineapple',\n",
              "       'pineapple', 'maize', 'rice', 'maize', 'coconut', 'radish',\n",
              "       'green-capsicum', 'cucumber', 'watermelon', 'tomato', 'cabbage',\n",
              "       'rice', 'rice', 'cotton', 'cotton', 'potato', 'radish', 'cabbage',\n",
              "       'rice', 'onion', 'mango', 'maize', 'apple', 'green-capsicum',\n",
              "       'mango', 'cotton', 'tomato', 'potato', 'spinach', 'apple',\n",
              "       'coffee', 'potato', 'green-chilli', 'green-chilli', 'green-chilli',\n",
              "       'beetroot', 'rice', 'bottle-gourd', 'rice', 'radish', 'tomato',\n",
              "       'mango', 'cucumber', 'bottle-gourd', 'tomato', 'radish', 'potato',\n",
              "       'onion', 'green-chilli', 'potato', 'green-capsicum', 'coffee',\n",
              "       'muskmelon', 'cabbage', 'beetroot', 'beetroot', 'green-capsicum',\n",
              "       'cucumber', 'spinach', 'tomato', 'tomato', 'mango', 'potato',\n",
              "       'muskmelon', 'mango', 'pineapple', 'potato', 'muskmelon', 'rice',\n",
              "       'green-capsicum', 'muskmelon', 'potato', 'apple', 'tomato',\n",
              "       'green-chilli', 'cucumber', 'apple', 'rice', 'mango', 'beetroot',\n",
              "       'pineapple', 'cotton', 'green-capsicum', 'potato', 'beetroot',\n",
              "       'rice', 'maize', 'spinach', 'muskmelon', 'cotton', 'cucumber',\n",
              "       'spinach', 'tomato', 'coffee', 'coffee', 'radish', 'watermelon',\n",
              "       'radish', 'bottle-gourd', 'coffee', 'potato', 'mango', 'apple',\n",
              "       'mango', 'green-capsicum', 'coffee', 'potato', 'coffee',\n",
              "       'bottle-gourd', 'cotton', 'green-capsicum', 'beetroot', 'apple',\n",
              "       'cabbage', 'potato', 'watermelon', 'beetroot', 'cabbage',\n",
              "       'bottle-gourd', 'rice', 'green-chilli', 'coffee', 'beetroot',\n",
              "       'spinach', 'coffee', 'green-chilli', 'pineapple', 'green-capsicum',\n",
              "       'beetroot', 'potato', 'apple', 'cucumber', 'radish', 'pineapple',\n",
              "       'rice', 'tomato', 'watermelon', 'green-capsicum', 'coconut',\n",
              "       'coconut', 'green-chilli', 'green-capsicum', 'cucumber',\n",
              "       'pineapple', 'green-chilli', 'cucumber', 'rice', 'rice',\n",
              "       'beetroot', 'green-capsicum', 'radish', 'spinach', 'green-chilli',\n",
              "       'green-capsicum', 'cotton', 'pineapple', 'tomato', 'bottle-gourd',\n",
              "       'tomato', 'rice', 'cotton', 'cucumber', 'mango', 'muskmelon',\n",
              "       'cucumber', 'radish', 'mango', 'maize', 'green-chilli', 'coffee',\n",
              "       'cotton', 'maize', 'rice', 'cucumber', 'green-capsicum',\n",
              "       'beetroot', 'rice', 'potato', 'muskmelon', 'tomato', 'cucumber',\n",
              "       'maize', 'green-chilli', 'cucumber', 'spinach', 'cotton',\n",
              "       'pineapple', 'apple', 'beetroot', 'green-capsicum', 'cotton',\n",
              "       'mango', 'bottle-gourd', 'mango', 'green-chilli', 'coffee',\n",
              "       'cotton', 'pineapple', 'coconut', 'coconut', 'coconut', 'apple',\n",
              "       'radish', 'mango', 'mango', 'radish', 'onion', 'apple',\n",
              "       'bottle-gourd', 'cabbage', 'cucumber', 'bottle-gourd', 'cotton',\n",
              "       'rice', 'onion', 'pineapple', 'apple', 'green-chilli', 'rice',\n",
              "       'coffee', 'radish', 'rice', 'cabbage', 'onion', 'cucumber',\n",
              "       'green-capsicum', 'green-chilli', 'beetroot', 'rice', 'coconut',\n",
              "       'cucumber', 'cucumber', 'pineapple', 'beetroot', 'spinach',\n",
              "       'watermelon'], dtype=object)"
            ]
          },
          "execution_count": 96,
          "metadata": {},
          "output_type": "execute_result"
        }
      ],
      "source": [
        "sv.predict(X_test_norm)"
      ]
    },
    {
      "cell_type": "code",
      "execution_count": 97,
      "metadata": {
        "id": "HZCa_bHgUSD7"
      },
      "outputs": [],
      "source": [
        "import pickle\n",
        "filename='crop_rec.pkl'\n",
        "pickle.dump(sv,open(filename,'wb'))"
      ]
    },
    {
      "cell_type": "code",
      "execution_count": 98,
      "metadata": {
        "id": "QcW3cCMnWi0i"
      },
      "outputs": [
        {
          "data": {
            "text/html": [
              "<div>\n",
              "<style scoped>\n",
              "    .dataframe tbody tr th:only-of-type {\n",
              "        vertical-align: middle;\n",
              "    }\n",
              "\n",
              "    .dataframe tbody tr th {\n",
              "        vertical-align: top;\n",
              "    }\n",
              "\n",
              "    .dataframe thead th {\n",
              "        text-align: right;\n",
              "    }\n",
              "</style>\n",
              "<table border=\"1\" class=\"dataframe\">\n",
              "  <thead>\n",
              "    <tr style=\"text-align: right;\">\n",
              "      <th></th>\n",
              "      <th>N</th>\n",
              "      <th>P</th>\n",
              "      <th>K</th>\n",
              "      <th>temperature</th>\n",
              "      <th>humidity</th>\n",
              "      <th>ph</th>\n",
              "      <th>rainfall</th>\n",
              "      <th>label</th>\n",
              "    </tr>\n",
              "  </thead>\n",
              "  <tbody>\n",
              "    <tr>\n",
              "      <th>0</th>\n",
              "      <td>90</td>\n",
              "      <td>42</td>\n",
              "      <td>43</td>\n",
              "      <td>20.879744</td>\n",
              "      <td>82.002744</td>\n",
              "      <td>6.502985</td>\n",
              "      <td>202.935536</td>\n",
              "      <td>rice</td>\n",
              "    </tr>\n",
              "    <tr>\n",
              "      <th>1</th>\n",
              "      <td>85</td>\n",
              "      <td>58</td>\n",
              "      <td>41</td>\n",
              "      <td>21.770462</td>\n",
              "      <td>80.319644</td>\n",
              "      <td>7.038096</td>\n",
              "      <td>226.655537</td>\n",
              "      <td>rice</td>\n",
              "    </tr>\n",
              "    <tr>\n",
              "      <th>2</th>\n",
              "      <td>60</td>\n",
              "      <td>55</td>\n",
              "      <td>44</td>\n",
              "      <td>23.004459</td>\n",
              "      <td>82.320763</td>\n",
              "      <td>7.840207</td>\n",
              "      <td>263.964248</td>\n",
              "      <td>rice</td>\n",
              "    </tr>\n",
              "    <tr>\n",
              "      <th>3</th>\n",
              "      <td>74</td>\n",
              "      <td>35</td>\n",
              "      <td>40</td>\n",
              "      <td>26.491096</td>\n",
              "      <td>80.158363</td>\n",
              "      <td>6.980401</td>\n",
              "      <td>242.864034</td>\n",
              "      <td>rice</td>\n",
              "    </tr>\n",
              "    <tr>\n",
              "      <th>4</th>\n",
              "      <td>78</td>\n",
              "      <td>42</td>\n",
              "      <td>42</td>\n",
              "      <td>20.130175</td>\n",
              "      <td>81.604873</td>\n",
              "      <td>7.628473</td>\n",
              "      <td>262.717340</td>\n",
              "      <td>rice</td>\n",
              "    </tr>\n",
              "  </tbody>\n",
              "</table>\n",
              "</div>"
            ],
            "text/plain": [
              "    N   P   K  temperature   humidity        ph    rainfall label\n",
              "0  90  42  43    20.879744  82.002744  6.502985  202.935536  rice\n",
              "1  85  58  41    21.770462  80.319644  7.038096  226.655537  rice\n",
              "2  60  55  44    23.004459  82.320763  7.840207  263.964248  rice\n",
              "3  74  35  40    26.491096  80.158363  6.980401  242.864034  rice\n",
              "4  78  42  42    20.130175  81.604873  7.628473  262.717340  rice"
            ]
          },
          "execution_count": 98,
          "metadata": {},
          "output_type": "execute_result"
        }
      ],
      "source": [
        "df.head()"
      ]
    },
    {
      "cell_type": "code",
      "execution_count": 99,
      "metadata": {},
      "outputs": [
        {
          "data": {
            "text/plain": [
              "21"
            ]
          },
          "execution_count": 99,
          "metadata": {},
          "output_type": "execute_result"
        }
      ],
      "source": [
        "df.label.nunique()"
      ]
    },
    {
      "cell_type": "code",
      "execution_count": 100,
      "metadata": {},
      "outputs": [],
      "source": [
        "from sklearn.neighbors import KNeighborsClassifier  "
      ]
    },
    {
      "cell_type": "code",
      "execution_count": 101,
      "metadata": {},
      "outputs": [
        {
          "data": {
            "text/html": [
              "<style>#sk-container-id-4 {color: black;background-color: white;}#sk-container-id-4 pre{padding: 0;}#sk-container-id-4 div.sk-toggleable {background-color: white;}#sk-container-id-4 label.sk-toggleable__label {cursor: pointer;display: block;width: 100%;margin-bottom: 0;padding: 0.3em;box-sizing: border-box;text-align: center;}#sk-container-id-4 label.sk-toggleable__label-arrow:before {content: \"▸\";float: left;margin-right: 0.25em;color: #696969;}#sk-container-id-4 label.sk-toggleable__label-arrow:hover:before {color: black;}#sk-container-id-4 div.sk-estimator:hover label.sk-toggleable__label-arrow:before {color: black;}#sk-container-id-4 div.sk-toggleable__content {max-height: 0;max-width: 0;overflow: hidden;text-align: left;background-color: #f0f8ff;}#sk-container-id-4 div.sk-toggleable__content pre {margin: 0.2em;color: black;border-radius: 0.25em;background-color: #f0f8ff;}#sk-container-id-4 input.sk-toggleable__control:checked~div.sk-toggleable__content {max-height: 200px;max-width: 100%;overflow: auto;}#sk-container-id-4 input.sk-toggleable__control:checked~label.sk-toggleable__label-arrow:before {content: \"▾\";}#sk-container-id-4 div.sk-estimator input.sk-toggleable__control:checked~label.sk-toggleable__label {background-color: #d4ebff;}#sk-container-id-4 div.sk-label input.sk-toggleable__control:checked~label.sk-toggleable__label {background-color: #d4ebff;}#sk-container-id-4 input.sk-hidden--visually {border: 0;clip: rect(1px 1px 1px 1px);clip: rect(1px, 1px, 1px, 1px);height: 1px;margin: -1px;overflow: hidden;padding: 0;position: absolute;width: 1px;}#sk-container-id-4 div.sk-estimator {font-family: monospace;background-color: #f0f8ff;border: 1px dotted black;border-radius: 0.25em;box-sizing: border-box;margin-bottom: 0.5em;}#sk-container-id-4 div.sk-estimator:hover {background-color: #d4ebff;}#sk-container-id-4 div.sk-parallel-item::after {content: \"\";width: 100%;border-bottom: 1px solid gray;flex-grow: 1;}#sk-container-id-4 div.sk-label:hover label.sk-toggleable__label {background-color: #d4ebff;}#sk-container-id-4 div.sk-serial::before {content: \"\";position: absolute;border-left: 1px solid gray;box-sizing: border-box;top: 0;bottom: 0;left: 50%;z-index: 0;}#sk-container-id-4 div.sk-serial {display: flex;flex-direction: column;align-items: center;background-color: white;padding-right: 0.2em;padding-left: 0.2em;position: relative;}#sk-container-id-4 div.sk-item {position: relative;z-index: 1;}#sk-container-id-4 div.sk-parallel {display: flex;align-items: stretch;justify-content: center;background-color: white;position: relative;}#sk-container-id-4 div.sk-item::before, #sk-container-id-4 div.sk-parallel-item::before {content: \"\";position: absolute;border-left: 1px solid gray;box-sizing: border-box;top: 0;bottom: 0;left: 50%;z-index: -1;}#sk-container-id-4 div.sk-parallel-item {display: flex;flex-direction: column;z-index: 1;position: relative;background-color: white;}#sk-container-id-4 div.sk-parallel-item:first-child::after {align-self: flex-end;width: 50%;}#sk-container-id-4 div.sk-parallel-item:last-child::after {align-self: flex-start;width: 50%;}#sk-container-id-4 div.sk-parallel-item:only-child::after {width: 0;}#sk-container-id-4 div.sk-dashed-wrapped {border: 1px dashed gray;margin: 0 0.4em 0.5em 0.4em;box-sizing: border-box;padding-bottom: 0.4em;background-color: white;}#sk-container-id-4 div.sk-label label {font-family: monospace;font-weight: bold;display: inline-block;line-height: 1.2em;}#sk-container-id-4 div.sk-label-container {text-align: center;}#sk-container-id-4 div.sk-container {/* jupyter's `normalize.less` sets `[hidden] { display: none; }` but bootstrap.min.css set `[hidden] { display: none !important; }` so we also need the `!important` here to be able to override the default hidden behavior on the sphinx rendered scikit-learn.org. See: https://github.com/scikit-learn/scikit-learn/issues/21755 */display: inline-block !important;position: relative;}#sk-container-id-4 div.sk-text-repr-fallback {display: none;}</style><div id=\"sk-container-id-4\" class=\"sk-top-container\"><div class=\"sk-text-repr-fallback\"><pre>KNeighborsClassifier(algorithm=&#x27;ball_tree&#x27;, n_neighbors=1530,\n",
              "                     weights=&#x27;distance&#x27;)</pre><b>In a Jupyter environment, please rerun this cell to show the HTML representation or trust the notebook. <br />On GitHub, the HTML representation is unable to render, please try loading this page with nbviewer.org.</b></div><div class=\"sk-container\" hidden><div class=\"sk-item\"><div class=\"sk-estimator sk-toggleable\"><input class=\"sk-toggleable__control sk-hidden--visually\" id=\"sk-estimator-id-4\" type=\"checkbox\" checked><label for=\"sk-estimator-id-4\" class=\"sk-toggleable__label sk-toggleable__label-arrow\">KNeighborsClassifier</label><div class=\"sk-toggleable__content\"><pre>KNeighborsClassifier(algorithm=&#x27;ball_tree&#x27;, n_neighbors=1530,\n",
              "                     weights=&#x27;distance&#x27;)</pre></div></div></div></div></div>"
            ],
            "text/plain": [
              "KNeighborsClassifier(algorithm='ball_tree', n_neighbors=1530,\n",
              "                     weights='distance')"
            ]
          },
          "execution_count": 101,
          "metadata": {},
          "output_type": "execute_result"
        }
      ],
      "source": [
        "classifier= KNeighborsClassifier(n_neighbors=1530, algorithm='ball_tree', weights='distance')  \n",
        "classifier.fit(X_train, y_train)  "
      ]
    },
    {
      "cell_type": "code",
      "execution_count": 102,
      "metadata": {},
      "outputs": [],
      "source": [
        "y_pred= classifier.predict(X_test)  "
      ]
    },
    {
      "cell_type": "code",
      "execution_count": 103,
      "metadata": {},
      "outputs": [
        {
          "name": "stderr",
          "output_type": "stream",
          "text": [
            "c:\\Users\\salman\\OneDrive\\Desktop\\Bytecamp-hackethon\\env\\lib\\site-packages\\sklearn\\base.py:439: UserWarning: X does not have valid feature names, but KNeighborsClassifier was fitted with feature names\n",
            "  warnings.warn(\n"
          ]
        },
        {
          "data": {
            "text/plain": [
              "array(['muskmelon'], dtype=object)"
            ]
          },
          "execution_count": 103,
          "metadata": {},
          "output_type": "execute_result"
        }
      ],
      "source": [
        "classifier.predict([X_test.iloc[0]])"
      ]
    },
    {
      "cell_type": "code",
      "execution_count": 104,
      "metadata": {},
      "outputs": [
        {
          "data": {
            "text/plain": [
              "(2200, 8)"
            ]
          },
          "execution_count": 104,
          "metadata": {},
          "output_type": "execute_result"
        }
      ],
      "source": [
        "df.shape"
      ]
    },
    {
      "cell_type": "code",
      "execution_count": 105,
      "metadata": {},
      "outputs": [
        {
          "data": {
            "text/plain": [
              "0.8681818181818182"
            ]
          },
          "execution_count": 105,
          "metadata": {},
          "output_type": "execute_result"
        }
      ],
      "source": [
        "classifier.score(X_test,y_test)"
      ]
    },
    {
      "cell_type": "code",
      "execution_count": 106,
      "metadata": {},
      "outputs": [
        {
          "name": "stderr",
          "output_type": "stream",
          "text": [
            "c:\\Users\\salman\\OneDrive\\Desktop\\Bytecamp-hackethon\\env\\lib\\site-packages\\sklearn\\base.py:439: UserWarning: X does not have valid feature names, but KNeighborsClassifier was fitted with feature names\n",
            "  warnings.warn(\n"
          ]
        }
      ],
      "source": [
        "distances, indices = classifier.kneighbors([X_test.iloc[0]], n_neighbors=5)\n",
        "rec = []\n",
        "for i in indices[0]:\n",
        "    # if df.iloc[i] != X_test.iloc[0]:\n",
        "    rec.append(df.iloc[i]['label'])"
      ]
    },
    {
      "cell_type": "code",
      "execution_count": 107,
      "metadata": {},
      "outputs": [
        {
          "data": {
            "text/plain": [
              "['spinach', 'tomato', 'tomato', 'watermelon', 'pineapple']"
            ]
          },
          "execution_count": 107,
          "metadata": {},
          "output_type": "execute_result"
        }
      ],
      "source": [
        "rec"
      ]
    },
    {
      "cell_type": "code",
      "execution_count": 108,
      "metadata": {},
      "outputs": [],
      "source": [
        "def save_model(model, model_name):\n",
        "    with open('./'+model_name+'.pkl', 'wb') as file:\n",
        "        pickle.dump(model, file)"
      ]
    },
    {
      "cell_type": "code",
      "execution_count": 109,
      "metadata": {},
      "outputs": [],
      "source": [
        "save_model(classifier, 'crop_rec')"
      ]
    },
    {
      "cell_type": "code",
      "execution_count": 110,
      "metadata": {},
      "outputs": [
        {
          "data": {
            "text/html": [
              "<div>\n",
              "<style scoped>\n",
              "    .dataframe tbody tr th:only-of-type {\n",
              "        vertical-align: middle;\n",
              "    }\n",
              "\n",
              "    .dataframe tbody tr th {\n",
              "        vertical-align: top;\n",
              "    }\n",
              "\n",
              "    .dataframe thead th {\n",
              "        text-align: right;\n",
              "    }\n",
              "</style>\n",
              "<table border=\"1\" class=\"dataframe\">\n",
              "  <thead>\n",
              "    <tr style=\"text-align: right;\">\n",
              "      <th></th>\n",
              "      <th>N</th>\n",
              "      <th>P</th>\n",
              "      <th>K</th>\n",
              "      <th>temperature</th>\n",
              "      <th>humidity</th>\n",
              "      <th>ph</th>\n",
              "      <th>rainfall</th>\n",
              "    </tr>\n",
              "  </thead>\n",
              "  <tbody>\n",
              "    <tr>\n",
              "      <th>1451</th>\n",
              "      <td>101</td>\n",
              "      <td>17</td>\n",
              "      <td>47</td>\n",
              "      <td>29.494014</td>\n",
              "      <td>94.729813</td>\n",
              "      <td>6.185053</td>\n",
              "      <td>26.308209</td>\n",
              "    </tr>\n",
              "    <tr>\n",
              "      <th>1334</th>\n",
              "      <td>98</td>\n",
              "      <td>8</td>\n",
              "      <td>51</td>\n",
              "      <td>26.179346</td>\n",
              "      <td>86.522581</td>\n",
              "      <td>6.259336</td>\n",
              "      <td>49.430510</td>\n",
              "    </tr>\n",
              "    <tr>\n",
              "      <th>1761</th>\n",
              "      <td>59</td>\n",
              "      <td>62</td>\n",
              "      <td>49</td>\n",
              "      <td>43.360515</td>\n",
              "      <td>93.351916</td>\n",
              "      <td>6.941497</td>\n",
              "      <td>114.778071</td>\n",
              "    </tr>\n",
              "    <tr>\n",
              "      <th>1735</th>\n",
              "      <td>44</td>\n",
              "      <td>60</td>\n",
              "      <td>55</td>\n",
              "      <td>34.280461</td>\n",
              "      <td>90.555616</td>\n",
              "      <td>6.825371</td>\n",
              "      <td>98.540477</td>\n",
              "    </tr>\n",
              "    <tr>\n",
              "      <th>1576</th>\n",
              "      <td>30</td>\n",
              "      <td>137</td>\n",
              "      <td>200</td>\n",
              "      <td>22.914300</td>\n",
              "      <td>90.704756</td>\n",
              "      <td>5.603413</td>\n",
              "      <td>118.604465</td>\n",
              "    </tr>\n",
              "    <tr>\n",
              "      <th>...</th>\n",
              "      <td>...</td>\n",
              "      <td>...</td>\n",
              "      <td>...</td>\n",
              "      <td>...</td>\n",
              "      <td>...</td>\n",
              "      <td>...</td>\n",
              "      <td>...</td>\n",
              "    </tr>\n",
              "    <tr>\n",
              "      <th>398</th>\n",
              "      <td>27</td>\n",
              "      <td>63</td>\n",
              "      <td>19</td>\n",
              "      <td>20.934099</td>\n",
              "      <td>21.189301</td>\n",
              "      <td>5.562202</td>\n",
              "      <td>133.191442</td>\n",
              "    </tr>\n",
              "    <tr>\n",
              "      <th>584</th>\n",
              "      <td>20</td>\n",
              "      <td>50</td>\n",
              "      <td>22</td>\n",
              "      <td>30.996947</td>\n",
              "      <td>46.426937</td>\n",
              "      <td>9.406888</td>\n",
              "      <td>38.315979</td>\n",
              "    </tr>\n",
              "    <tr>\n",
              "      <th>1702</th>\n",
              "      <td>45</td>\n",
              "      <td>47</td>\n",
              "      <td>55</td>\n",
              "      <td>38.419163</td>\n",
              "      <td>91.142204</td>\n",
              "      <td>6.751453</td>\n",
              "      <td>119.265388</td>\n",
              "    </tr>\n",
              "    <tr>\n",
              "      <th>292</th>\n",
              "      <td>39</td>\n",
              "      <td>76</td>\n",
              "      <td>76</td>\n",
              "      <td>19.968375</td>\n",
              "      <td>15.573244</td>\n",
              "      <td>8.135901</td>\n",
              "      <td>69.157591</td>\n",
              "    </tr>\n",
              "    <tr>\n",
              "      <th>1344</th>\n",
              "      <td>103</td>\n",
              "      <td>16</td>\n",
              "      <td>49</td>\n",
              "      <td>24.067315</td>\n",
              "      <td>81.640753</td>\n",
              "      <td>6.915717</td>\n",
              "      <td>51.752124</td>\n",
              "    </tr>\n",
              "  </tbody>\n",
              "</table>\n",
              "<p>660 rows × 7 columns</p>\n",
              "</div>"
            ],
            "text/plain": [
              "        N    P    K  temperature   humidity        ph    rainfall\n",
              "1451  101   17   47    29.494014  94.729813  6.185053   26.308209\n",
              "1334   98    8   51    26.179346  86.522581  6.259336   49.430510\n",
              "1761   59   62   49    43.360515  93.351916  6.941497  114.778071\n",
              "1735   44   60   55    34.280461  90.555616  6.825371   98.540477\n",
              "1576   30  137  200    22.914300  90.704756  5.603413  118.604465\n",
              "...   ...  ...  ...          ...        ...       ...         ...\n",
              "398    27   63   19    20.934099  21.189301  5.562202  133.191442\n",
              "584    20   50   22    30.996947  46.426937  9.406888   38.315979\n",
              "1702   45   47   55    38.419163  91.142204  6.751453  119.265388\n",
              "292    39   76   76    19.968375  15.573244  8.135901   69.157591\n",
              "1344  103   16   49    24.067315  81.640753  6.915717   51.752124\n",
              "\n",
              "[660 rows x 7 columns]"
            ]
          },
          "execution_count": 110,
          "metadata": {},
          "output_type": "execute_result"
        }
      ],
      "source": [
        "X_test"
      ]
    },
    {
      "cell_type": "code",
      "execution_count": 111,
      "metadata": {},
      "outputs": [],
      "source": [
        "RICE=np.array(X_test.iloc[0])"
      ]
    },
    {
      "cell_type": "code",
      "execution_count": 112,
      "metadata": {},
      "outputs": [
        {
          "data": {
            "text/plain": [
              "array(['rice', 'maize', 'spinach', 'cucumber', 'potato', 'pineapple',\n",
              "       'tomato', 'cabbage', 'green-capsicum', 'onion', 'mango',\n",
              "       'bottle-gourd', 'watermelon', 'muskmelon', 'apple', 'radish',\n",
              "       'beetroot', 'coconut', 'cotton', 'green-chilli', 'coffee'],\n",
              "      dtype=object)"
            ]
          },
          "execution_count": 112,
          "metadata": {},
          "output_type": "execute_result"
        }
      ],
      "source": [
        "df['label'].unique()"
      ]
    },
    {
      "cell_type": "code",
      "execution_count": 113,
      "metadata": {},
      "outputs": [
        {
          "data": {
            "text/plain": [
              "140"
            ]
          },
          "execution_count": 113,
          "metadata": {},
          "output_type": "execute_result"
        }
      ],
      "source": [
        "df['N'].max()"
      ]
    },
    {
      "cell_type": "code",
      "execution_count": 114,
      "metadata": {},
      "outputs": [
        {
          "data": {
            "text/plain": [
              "(660, 7)"
            ]
          },
          "execution_count": 114,
          "metadata": {},
          "output_type": "execute_result"
        }
      ],
      "source": [
        "from random import randint\n",
        "X_test.shape"
      ]
    },
    {
      "cell_type": "code",
      "execution_count": 115,
      "metadata": {},
      "outputs": [],
      "source": [
        "data_frame  = {\n",
        "    'BLACK' : X_test.iloc[randint(0,50)],\n",
        "    'YELLOW' : X_test.iloc[randint(51,100)],\n",
        "    'CINDER' : X_test.iloc[randint(101,150)],\n",
        "    'PEAT' : X_test.iloc[randint(151,200)],\n",
        "    'LATERITE' : X_test.iloc[randint(250,650)]\n",
        "}"
      ]
    },
    {
      "cell_type": "code",
      "execution_count": 116,
      "metadata": {},
      "outputs": [
        {
          "data": {
            "text/plain": [
              "{'BLACK': N               32.000000\n",
              " P               18.000000\n",
              " K               13.000000\n",
              " temperature     13.837728\n",
              " humidity        91.747805\n",
              " ph               6.044167\n",
              " rainfall       107.987322\n",
              " Name: 1646, dtype: float64,\n",
              " 'YELLOW': N               6.000000\n",
              " P              59.000000\n",
              " K              21.000000\n",
              " temperature    26.589725\n",
              " humidity       66.140077\n",
              " ph              6.139216\n",
              " rainfall       50.909945\n",
              " Name: 807, dtype: float64,\n",
              " 'CINDER': N              37.000000\n",
              " P              57.000000\n",
              " K              20.000000\n",
              " temperature    31.100625\n",
              " humidity       44.820692\n",
              " ph              7.354287\n",
              " rainfall       70.799345\n",
              " Name: 543, dtype: float64,\n",
              " 'PEAT': N              36.000000\n",
              " P              43.000000\n",
              " K              24.000000\n",
              " temperature    27.094006\n",
              " humidity       43.653054\n",
              " ph              3.510404\n",
              " rainfall       41.537495\n",
              " Name: 529, dtype: float64,\n",
              " 'LATERITE': N               61.000000\n",
              " P               51.000000\n",
              " K               51.000000\n",
              " temperature     39.300500\n",
              " humidity        94.161934\n",
              " ph               6.574678\n",
              " rainfall       120.951247\n",
              " Name: 1728, dtype: float64}"
            ]
          },
          "execution_count": 116,
          "metadata": {},
          "output_type": "execute_result"
        }
      ],
      "source": [
        "data_frame"
      ]
    },
    {
      "cell_type": "code",
      "execution_count": 117,
      "metadata": {},
      "outputs": [],
      "source": [
        "to_save_ang = pd.DataFrame(data_frame)\n",
        "# to_save_ang = to_save_ang.T"
      ]
    },
    {
      "cell_type": "code",
      "execution_count": 118,
      "metadata": {},
      "outputs": [
        {
          "data": {
            "text/plain": [
              "N               32.000000\n",
              "P               18.000000\n",
              "K               13.000000\n",
              "temperature     13.837728\n",
              "humidity        91.747805\n",
              "ph               6.044167\n",
              "rainfall       107.987322\n",
              "Name: BLACK, dtype: float64"
            ]
          },
          "execution_count": 118,
          "metadata": {},
          "output_type": "execute_result"
        }
      ],
      "source": [
        "to_save_ang['BLACK']"
      ]
    },
    {
      "cell_type": "code",
      "execution_count": 119,
      "metadata": {},
      "outputs": [],
      "source": [
        "to_save_ang.to_csv('to_save_ang.csv', index=False)"
      ]
    },
    {
      "cell_type": "code",
      "execution_count": 120,
      "metadata": {},
      "outputs": [
        {
          "name": "stderr",
          "output_type": "stream",
          "text": [
            "c:\\Users\\salman\\OneDrive\\Desktop\\Bytecamp-hackethon\\env\\lib\\site-packages\\sklearn\\base.py:439: UserWarning: X does not have valid feature names, but KNeighborsClassifier was fitted with feature names\n",
            "  warnings.warn(\n"
          ]
        }
      ],
      "source": [
        "distances, indices = classifier.kneighbors([to_save_ang['BLACK']], n_neighbors=5)\n",
        "rec = []\n",
        "for i in indices[0]:\n",
        "    # if df.iloc[i] != X_test.iloc[0]:\n",
        "    rec.append(df.iloc[i]['label'])"
      ]
    },
    {
      "cell_type": "code",
      "execution_count": 121,
      "metadata": {},
      "outputs": [
        {
          "data": {
            "text/plain": [
              "['rice', 'rice', 'potato', 'spinach', 'muskmelon']"
            ]
          },
          "execution_count": 121,
          "metadata": {},
          "output_type": "execute_result"
        }
      ],
      "source": [
        "rec"
      ]
    },
    {
      "cell_type": "code",
      "execution_count": 122,
      "metadata": {},
      "outputs": [],
      "source": [
        "AVG_SOIL_VALUES = pd.read_csv(\"to_save_ang.csv\")"
      ]
    },
    {
      "cell_type": "code",
      "execution_count": 123,
      "metadata": {},
      "outputs": [
        {
          "data": {
            "text/plain": [
              "0     32.000000\n",
              "1     18.000000\n",
              "2     13.000000\n",
              "3     13.837728\n",
              "4     91.747805\n",
              "5      6.044167\n",
              "6    107.987322\n",
              "Name: BLACK, dtype: float64"
            ]
          },
          "execution_count": 123,
          "metadata": {},
          "output_type": "execute_result"
        }
      ],
      "source": [
        "AVG_SOIL_VALUES['BLACK']"
      ]
    },
    {
      "cell_type": "code",
      "execution_count": 124,
      "metadata": {},
      "outputs": [
        {
          "name": "stderr",
          "output_type": "stream",
          "text": [
            "c:\\Users\\salman\\OneDrive\\Desktop\\Bytecamp-hackethon\\env\\lib\\site-packages\\sklearn\\base.py:439: UserWarning: X does not have valid feature names, but KNeighborsClassifier was fitted with feature names\n",
            "  warnings.warn(\n"
          ]
        }
      ],
      "source": [
        "distances, indices = classifier.kneighbors([AVG_SOIL_VALUES['BLACK']], n_neighbors=5)\n",
        "rec = []\n",
        "for i in indices[0]:\n",
        "    # if df.iloc[i] != X_test.iloc[0]:\n",
        "    rec.append(df.iloc[i]['label'])"
      ]
    },
    {
      "cell_type": "code",
      "execution_count": 125,
      "metadata": {},
      "outputs": [],
      "source": [
        "def load_model(model_name):\n",
        "    with open(model_name, \"rb\") as file:\n",
        "        model = pickle.load(file)\n",
        "    return model\n",
        "CROPS_MODEL = load_model(\"crop_rec.pkl\")"
      ]
    },
    {
      "cell_type": "code",
      "execution_count": 126,
      "metadata": {},
      "outputs": [
        {
          "name": "stderr",
          "output_type": "stream",
          "text": [
            "c:\\Users\\salman\\OneDrive\\Desktop\\Bytecamp-hackethon\\env\\lib\\site-packages\\sklearn\\base.py:439: UserWarning: X does not have valid feature names, but KNeighborsClassifier was fitted with feature names\n",
            "  warnings.warn(\n"
          ]
        }
      ],
      "source": [
        "distances, indices = CROPS_MODEL.kneighbors([AVG_SOIL_VALUES['BLACK']], n_neighbors=5)\n",
        "rec = []\n",
        "for i in indices[0]:\n",
        "    # if df.iloc[i] != X_test.iloc[0]:\n",
        "    rec.append(df.iloc[i]['label'])"
      ]
    },
    {
      "cell_type": "code",
      "execution_count": 127,
      "metadata": {},
      "outputs": [
        {
          "data": {
            "text/plain": [
              "['rice', 'rice', 'potato', 'spinach', 'muskmelon']"
            ]
          },
          "execution_count": 127,
          "metadata": {},
          "output_type": "execute_result"
        }
      ],
      "source": [
        "rec"
      ]
    },
    {
      "cell_type": "code",
      "execution_count": 128,
      "metadata": {},
      "outputs": [],
      "source": [
        "nx = np.array([AVG_SOIL_VALUES['BLACK']])"
      ]
    },
    {
      "cell_type": "code",
      "execution_count": 129,
      "metadata": {},
      "outputs": [],
      "source": [
        "t = nx.reshape(1, -1)"
      ]
    },
    {
      "cell_type": "code",
      "execution_count": 130,
      "metadata": {},
      "outputs": [
        {
          "name": "stderr",
          "output_type": "stream",
          "text": [
            "c:\\Users\\salman\\OneDrive\\Desktop\\Bytecamp-hackethon\\env\\lib\\site-packages\\sklearn\\base.py:439: UserWarning: X does not have valid feature names, but KNeighborsClassifier was fitted with feature names\n",
            "  warnings.warn(\n"
          ]
        }
      ],
      "source": [
        "distances, indices = CROPS_MODEL.kneighbors(t, n_neighbors=5)\n",
        "rec = []\n",
        "for i in indices[0]:\n",
        "    # if df.iloc[i] != X_test.iloc[0]:\n",
        "    rec.append(df.iloc[i]['label'])"
      ]
    },
    {
      "cell_type": "code",
      "execution_count": 131,
      "metadata": {},
      "outputs": [
        {
          "data": {
            "text/plain": [
              "['rice', 'rice', 'potato', 'spinach', 'muskmelon']"
            ]
          },
          "execution_count": 131,
          "metadata": {},
          "output_type": "execute_result"
        }
      ],
      "source": [
        "rec"
      ]
    },
    {
      "cell_type": "code",
      "execution_count": 132,
      "metadata": {},
      "outputs": [
        {
          "data": {
            "text/plain": [
              "array(['rice', 'maize', 'spinach', 'cucumber', 'potato', 'pineapple',\n",
              "       'tomato', 'cabbage', 'green-capsicum', 'onion', 'mango',\n",
              "       'bottle-gourd', 'watermelon', 'muskmelon', 'apple', 'radish',\n",
              "       'beetroot', 'coconut', 'cotton', 'green-chilli', 'coffee'],\n",
              "      dtype=object)"
            ]
          },
          "execution_count": 132,
          "metadata": {},
          "output_type": "execute_result"
        }
      ],
      "source": [
        "import requests\n",
        "df['label'].unique()\n"
      ]
    },
    {
      "cell_type": "code",
      "execution_count": 133,
      "metadata": {},
      "outputs": [],
      "source": [
        "REQ = \"https://m.indiamart.com/ajaxrequest/unidentified/mcat?flName=567&cityFlName=&start=1&end=56&bizValue=&ecomValue=&in_country_iso=0&language=en&glusrid=&cityid\"\n"
      ]
    },
    {
      "cell_type": "code",
      "execution_count": 134,
      "metadata": {},
      "outputs": [],
      "source": [
        "dataList = []\n",
        "not_label = []\n",
        "for r in df['label'].unique():\n",
        "    try:\n",
        "        url = REQ.replace(\"567\",r)\n",
        "        response = requests.get(url)\n",
        "        # print(url)\n",
        "        data = response.json()\n",
        "        # print(data['data'])\n",
        "        for i,d in enumerate(data['firstListData']):\n",
        "            # print(d)\n",
        "            try:\n",
        "                dataList.append({\n",
        "                    \"original\":r,\n",
        "                    \"name\":d[0][\"productName\"],\n",
        "                    \"price\":d[0][\"price\"],\n",
        "                    \"link\":d[0][\"companyUrl\"],\n",
        "                    \"image\":d[0][\"imgUrl\"],\n",
        "                    \"contact\":d[0][\"companyContactNo\"],\n",
        "                    \"ownerName\":d[0][\"companyName\"],\n",
        "                    \"city\":d[0][\"city\"],\n",
        "                    \"district\":d[0][\"district\"],\n",
        "                    \"unit\":d[0][\"unit\"],\n",
        "                    \"standardPrice\":d[0][\"standardPrice\"],\n",
        "                    \n",
        "                })\n",
        "            except:\n",
        "                print(i,d[0])\n",
        "    except:\n",
        "        not_label.append(r)\n",
        "        print(r)\n"
      ]
    },
    {
      "cell_type": "code",
      "execution_count": 135,
      "metadata": {},
      "outputs": [],
      "source": [
        "ALL_PRODUCTS=[\"potato\",\"onion\",\"tomato\",\"brinjal\",\"cabbage\",\"cauliflower\",\"capsicum\",\"carrot\",\"chilli\",\"garlic\",\"ginger\",\"green-chilli\",\"green-peas\",\"lemon\",\"mushroom\",\"okra\",\"onion\",\"potato\",\"radish\",\"spinach\",\"sweet-potato\",\"tomato\",\"turmeric\",\"watermelon\",\"beetroot\",\"bitter-gourd\",\"bottle-gourd\",\"cucumber\",\"drumstick\",\"eggplant\",\"green-beans\",\"green-capsicum\",\"green-chilli\",\"green-peas\",\"jackfruit\",\"lemon\",\"mango\",\"mushroom\",\"okra\",\"onion\",\"orange\",\"papaya\",\"peas\",\"pineapple\",\"potato\",\"radish\",\"spinach\",\"sweet-potato\",\"tomato\",\"turmeric\",\"watermelon\",\"beetroot\",\"bitter-gourd\",\"bottle-gourd\",\"cucumber\",\"drumstick\",\"eggplant\",\"green-beans\",\"green-capsicum\",\"green-chilli\",\"green-peas\",\"jackfruit\",\"lemon\",\"mango\",\"mushroom\",\"okra\",\"onion\",\"orange\",\"papaya\",\"peas\",\"pineapple\",\"potato\",\"radish\",\"spinach\",\"sweet-potato\",\"tomato\",\"turmeric\",\"watermelon\",\"beetroot\",\"bitter-gourd\",\"bottle-gourd\",\"cucumber\",\"drumstick\",\"eggplant\",\"green-beans\",\"green-capsicum\",\"green-chilli\",\"green-peas\",\"jackfruit\",\"lemon\",\"mango\",\"mushroom\",\"okra\",\"onion\",\"orange\",\"papaya\",\"peas\",\"pineapple\",\"potato\",\"radish\",\"spinach\",\"sweet-potato\",\"tomato\",\"turmeric\",\"watermelon\",\"beetroot\",\"bitter-gourd\",\"bottle-gourd\",\"cucumber\",\"drumstick\",\"eggplant\",\"green-beans\",\"green-capsicum\",\"green-chilli\",\"green-peas\",\"jackfruit\",\"lemon\",\"mango\",\"mushroom\",\"okra\",\"onion\",\"orange\",\"papaya\",\"peas\",\"pineapple\",\"potato\",\"radish\",\"spinach\",\"sweet-potato\",\"tomato\",\"turmeric\",\"watermelon\",\"beetroot\",\"bitter-gourd\",\"bottle-gourd\",\"cucumber\",\"drumstick\",\"eggplant\",\"green-beans\",\"green-capsicum\",\"green-chilli\",\"green-peas\",\"jackfruit\",\"lemon\",\"mango\",\"mushroom\",\"okra\",\"onion\",\"orange\",\"papaya\",\"peas\",\"pineapple\",\"potato\",\"radish\",\"spinach\",\"sweet-potato\",\"tomato\",\"turmeric\",\"watermelon\",\"beetroot\",\"bitter-gourd\",\"bottle-gourd\",\"cucumber\",\"drumstick\",\"eggplant\",\"green-beans\",\"green-capsicum\",\"green-chilli\",\"green-peas\",\"jackfruit\",\"lemon\",\"mango\",\"mushroom\",\"okra\",\"onion\",\"orange\",\"papaya\",\"peas\",\"pineapple\",\"potato\",\"radish\",\"spinach\",\"sweet-potato\",\"tomato\",\"turmeric\",\"watermelon\",\"beetroot\",\"bitter-gourd\",\"bottle-gourd\",\"cucumber\",\"drumstick\",\"eggplant\",\"green-beans\",\"green-capsicum\",\"green-chilli\",\"green-peas\",\"jackfruit\",\"lemon\",\"mango\",\"mushroom\",\"okra\",\"onion\",\"orange\",\"papaya\",\"peas\",\"pineapple\",\"potato\",\"radish\",\"spinach\",\"sweet-potato\",\"tomato\",\"turmeric\",\"watermelon\",\"beetroot\",\"bitter-gourd\",\"bottle-gourd\",\"cucumber\",\"drumstick\",\"eggplant\",\"green-beans\",\"green-capsicum\",\"green-chilli\",\"green-peas\",\"jackfruit\",\"lemon\",\"mango\",\"mushroom\",\"okra\",\"onion\",\"orange\",\"papaya\",\"peas\",\"pineapple\",\"potato\",\"radish\",\"spinach\",\"sweet-potato\",\"tomato\",\"turmeric\",\"watermelon\",\"beetroot\",\"bitter-gourd\",\"bottle-gourd\",\"cucumber\",\"drumstick\",\"eggplant\",\"green-beans\",\"green-capsicum\",\"green-chilli\",\"green-peas\",\"jackfruit\",\"lemon\",\"mango\",\"mushroom\",\"okra\",\"onion\",\"orange\",\"papaya\",\"peas\",\"pineapple\",\"potato\",\"radish\",\"spinach\",\"sweet-potato\",\"tomato\",\"turmeric\",\"watermelon\",\"beetroot\",\"bitter-gourd\",\"bottle-gourd\",\"cucumber\",\"drumstick\",\"eggplant\",\"green-beans\",\"green-capsicum\",\"green-chilli\",\"green-peas\",\"jackfruit\",\"lemon\",\"mango\",\"mushroom\",\"okra\",\"onion\",\"orange\",\"papaya\",\"peas\",\"pineapple\",\"potato\",\"rice\"]\n"
      ]
    },
    {
      "cell_type": "code",
      "execution_count": 136,
      "metadata": {},
      "outputs": [
        {
          "name": "stdout",
          "output_type": "stream",
          "text": [
            "err\n",
            "err\n",
            "err\n",
            "err\n",
            "err\n",
            "err\n",
            "err\n",
            "err\n",
            "err\n",
            "err\n",
            "err\n",
            "err\n",
            "err\n",
            "err\n",
            "err\n",
            "err\n",
            "err\n",
            "err\n",
            "err\n",
            "err\n",
            "err\n",
            "err\n",
            "err\n",
            "err\n",
            "err\n",
            "err\n",
            "err\n",
            "err\n",
            "err\n",
            "err\n",
            "err\n",
            "err\n",
            "err\n",
            "err\n",
            "err\n",
            "err\n",
            "err\n",
            "err\n",
            "err\n",
            "err\n",
            "err\n",
            "err\n",
            "err\n",
            "err\n",
            "err\n",
            "err\n",
            "err\n",
            "err\n",
            "err\n",
            "err\n",
            "err\n",
            "err\n",
            "err\n",
            "err\n",
            "err\n",
            "err\n",
            "err\n",
            "err\n",
            "err\n",
            "err\n",
            "err\n",
            "err\n",
            "err\n",
            "err\n",
            "err\n",
            "err\n",
            "err\n",
            "err\n",
            "err\n",
            "err\n",
            "err\n",
            "err\n",
            "err\n",
            "err\n",
            "err\n",
            "err\n",
            "err\n",
            "err\n",
            "err\n",
            "err\n",
            "err\n",
            "err\n",
            "err\n",
            "err\n",
            "err\n"
          ]
        }
      ],
      "source": [
        "dataList = []\n",
        "nr = []\n",
        "for r in ALL_PRODUCTS:\n",
        "    try:\n",
        "        url = REQ.replace(\"567\",r)\n",
        "        response = requests.get(url)\n",
        "        # print(url)\n",
        "        data = response.json()\n",
        "        # print(data['data'])\n",
        "        try:\n",
        "            for i,d in enumerate(data['firstListData']):\n",
        "                # print(d)\n",
        "                    dataList.append({\n",
        "                        \"original\":r,\n",
        "                        \"name\":d[0][\"productName\"],\n",
        "                        \"price\":d[0][\"price\"],\n",
        "                        \"link\":d[0][\"companyUrl\"],\n",
        "                        \"image\":d[0][\"imgUrl\"],\n",
        "                        \"contact\":d[0][\"companyContactNo\"],\n",
        "                        \"ownerName\":d[0][\"companyName\"],\n",
        "                        \"city\":d[0][\"city\"],\n",
        "                        \"district\":d[0][\"district\"],\n",
        "                        \"unit\":d[0][\"unit\"],\n",
        "                        \"standardPrice\":d[0][\"standardPrice\"],\n",
        "                        \n",
        "                    })\n",
        "            nr.append(r)\n",
        "        except:\n",
        "            print(\"err\")\n",
        "    except:\n",
        "        print(\"error\")\n"
      ]
    },
    {
      "cell_type": "code",
      "execution_count": 137,
      "metadata": {},
      "outputs": [
        {
          "data": {
            "text/plain": [
              "[]"
            ]
          },
          "execution_count": 137,
          "metadata": {},
          "output_type": "execute_result"
        }
      ],
      "source": [
        "not_label"
      ]
    },
    {
      "cell_type": "code",
      "execution_count": 138,
      "metadata": {},
      "outputs": [],
      "source": [
        "nr = list(set(nr))"
      ]
    },
    {
      "cell_type": "code",
      "execution_count": 139,
      "metadata": {},
      "outputs": [],
      "source": [
        "to_replace_label = dict()\n",
        "for i,lable_name in enumerate(not_label):\n",
        "    to_replace_label[lable_name] = nr[i]"
      ]
    },
    {
      "cell_type": "code",
      "execution_count": 140,
      "metadata": {},
      "outputs": [
        {
          "data": {
            "text/plain": [
              "{}"
            ]
          },
          "execution_count": 140,
          "metadata": {},
          "output_type": "execute_result"
        }
      ],
      "source": [
        "to_replace_label"
      ]
    },
    {
      "cell_type": "code",
      "execution_count": 141,
      "metadata": {},
      "outputs": [
        {
          "data": {
            "text/plain": [
              "array(['rice', 'maize', 'spinach', 'cucumber', 'potato', 'pineapple',\n",
              "       'tomato', 'cabbage', 'green-capsicum', 'onion', 'mango',\n",
              "       'bottle-gourd', 'watermelon', 'muskmelon', 'apple', 'radish',\n",
              "       'beetroot', 'coconut', 'cotton', 'green-chilli', 'coffee'],\n",
              "      dtype=object)"
            ]
          },
          "execution_count": 141,
          "metadata": {},
          "output_type": "execute_result"
        }
      ],
      "source": [
        "df['label'].unique()"
      ]
    },
    {
      "cell_type": "code",
      "execution_count": 142,
      "metadata": {},
      "outputs": [],
      "source": [
        "to_remove = []\n",
        "for i in df['label'].unique():\n",
        "    if i not in not_label:\n",
        "        to_remove.append(i)"
      ]
    },
    {
      "cell_type": "code",
      "execution_count": 143,
      "metadata": {},
      "outputs": [
        {
          "data": {
            "text/plain": [
              "['rice',\n",
              " 'maize',\n",
              " 'spinach',\n",
              " 'cucumber',\n",
              " 'potato',\n",
              " 'pineapple',\n",
              " 'tomato',\n",
              " 'cabbage',\n",
              " 'green-capsicum',\n",
              " 'onion',\n",
              " 'mango',\n",
              " 'bottle-gourd',\n",
              " 'watermelon',\n",
              " 'muskmelon',\n",
              " 'apple',\n",
              " 'radish',\n",
              " 'beetroot',\n",
              " 'coconut',\n",
              " 'cotton',\n",
              " 'green-chilli',\n",
              " 'coffee']"
            ]
          },
          "execution_count": 143,
          "metadata": {},
          "output_type": "execute_result"
        }
      ],
      "source": [
        "to_remove"
      ]
    },
    {
      "cell_type": "code",
      "execution_count": 144,
      "metadata": {},
      "outputs": [],
      "source": [
        "to_remove_df =[]\n",
        "for i in ALL_PRODUCTS:\n",
        "    if i not in to_remove:\n",
        "        to_remove_df.append(i)"
      ]
    },
    {
      "cell_type": "code",
      "execution_count": 145,
      "metadata": {},
      "outputs": [
        {
          "data": {
            "text/plain": [
              "['brinjal',\n",
              " 'cauliflower',\n",
              " 'capsicum',\n",
              " 'carrot',\n",
              " 'chilli',\n",
              " 'garlic',\n",
              " 'ginger',\n",
              " 'green-peas',\n",
              " 'lemon',\n",
              " 'mushroom',\n",
              " 'okra',\n",
              " 'sweet-potato',\n",
              " 'turmeric',\n",
              " 'bitter-gourd',\n",
              " 'drumstick',\n",
              " 'eggplant',\n",
              " 'green-beans',\n",
              " 'green-peas',\n",
              " 'jackfruit',\n",
              " 'lemon',\n",
              " 'mushroom',\n",
              " 'okra',\n",
              " 'orange',\n",
              " 'papaya',\n",
              " 'peas',\n",
              " 'sweet-potato',\n",
              " 'turmeric',\n",
              " 'bitter-gourd',\n",
              " 'drumstick',\n",
              " 'eggplant',\n",
              " 'green-beans',\n",
              " 'green-peas',\n",
              " 'jackfruit',\n",
              " 'lemon',\n",
              " 'mushroom',\n",
              " 'okra',\n",
              " 'orange',\n",
              " 'papaya',\n",
              " 'peas',\n",
              " 'sweet-potato',\n",
              " 'turmeric',\n",
              " 'bitter-gourd',\n",
              " 'drumstick',\n",
              " 'eggplant',\n",
              " 'green-beans',\n",
              " 'green-peas',\n",
              " 'jackfruit',\n",
              " 'lemon',\n",
              " 'mushroom',\n",
              " 'okra',\n",
              " 'orange',\n",
              " 'papaya',\n",
              " 'peas',\n",
              " 'sweet-potato',\n",
              " 'turmeric',\n",
              " 'bitter-gourd',\n",
              " 'drumstick',\n",
              " 'eggplant',\n",
              " 'green-beans',\n",
              " 'green-peas',\n",
              " 'jackfruit',\n",
              " 'lemon',\n",
              " 'mushroom',\n",
              " 'okra',\n",
              " 'orange',\n",
              " 'papaya',\n",
              " 'peas',\n",
              " 'sweet-potato',\n",
              " 'turmeric',\n",
              " 'bitter-gourd',\n",
              " 'drumstick',\n",
              " 'eggplant',\n",
              " 'green-beans',\n",
              " 'green-peas',\n",
              " 'jackfruit',\n",
              " 'lemon',\n",
              " 'mushroom',\n",
              " 'okra',\n",
              " 'orange',\n",
              " 'papaya',\n",
              " 'peas',\n",
              " 'sweet-potato',\n",
              " 'turmeric',\n",
              " 'bitter-gourd',\n",
              " 'drumstick',\n",
              " 'eggplant',\n",
              " 'green-beans',\n",
              " 'green-peas',\n",
              " 'jackfruit',\n",
              " 'lemon',\n",
              " 'mushroom',\n",
              " 'okra',\n",
              " 'orange',\n",
              " 'papaya',\n",
              " 'peas',\n",
              " 'sweet-potato',\n",
              " 'turmeric',\n",
              " 'bitter-gourd',\n",
              " 'drumstick',\n",
              " 'eggplant',\n",
              " 'green-beans',\n",
              " 'green-peas',\n",
              " 'jackfruit',\n",
              " 'lemon',\n",
              " 'mushroom',\n",
              " 'okra',\n",
              " 'orange',\n",
              " 'papaya',\n",
              " 'peas',\n",
              " 'sweet-potato',\n",
              " 'turmeric',\n",
              " 'bitter-gourd',\n",
              " 'drumstick',\n",
              " 'eggplant',\n",
              " 'green-beans',\n",
              " 'green-peas',\n",
              " 'jackfruit',\n",
              " 'lemon',\n",
              " 'mushroom',\n",
              " 'okra',\n",
              " 'orange',\n",
              " 'papaya',\n",
              " 'peas',\n",
              " 'sweet-potato',\n",
              " 'turmeric',\n",
              " 'bitter-gourd',\n",
              " 'drumstick',\n",
              " 'eggplant',\n",
              " 'green-beans',\n",
              " 'green-peas',\n",
              " 'jackfruit',\n",
              " 'lemon',\n",
              " 'mushroom',\n",
              " 'okra',\n",
              " 'orange',\n",
              " 'papaya',\n",
              " 'peas',\n",
              " 'sweet-potato',\n",
              " 'turmeric',\n",
              " 'bitter-gourd',\n",
              " 'drumstick',\n",
              " 'eggplant',\n",
              " 'green-beans',\n",
              " 'green-peas',\n",
              " 'jackfruit',\n",
              " 'lemon',\n",
              " 'mushroom',\n",
              " 'okra',\n",
              " 'orange',\n",
              " 'papaya',\n",
              " 'peas']"
            ]
          },
          "execution_count": 145,
          "metadata": {},
          "output_type": "execute_result"
        }
      ],
      "source": [
        "to_remove_df"
      ]
    },
    {
      "cell_type": "code",
      "execution_count": 146,
      "metadata": {},
      "outputs": [],
      "source": [
        "dataList = []\n",
        "nr = []\n",
        "for r in to_replace_label.values():\n",
        "    try:\n",
        "        url = REQ.replace(\"567\",r)\n",
        "        response = requests.get(url)\n",
        "        # print(url)\n",
        "        data = response.json()\n",
        "        # print(data['data'])\n",
        "        try:\n",
        "            for i,d in enumerate(data['firstListData']):\n",
        "                # print(d)\n",
        "                    dataList.append({\n",
        "                        \"original\":r,\n",
        "                        \"name\":d[0][\"productName\"],\n",
        "                        \"price\":d[0][\"price\"],\n",
        "                        \"link\":d[0][\"companyUrl\"],\n",
        "                        \"image\":d[0][\"imgUrl\"],\n",
        "                        \"contact\":d[0][\"companyContactNo\"],\n",
        "                        \"ownerName\":d[0][\"companyName\"],\n",
        "                        \"city\":d[0][\"city\"],\n",
        "                        \"district\":d[0][\"district\"],\n",
        "                        \"unit\":d[0][\"unit\"],\n",
        "                        \"standardPrice\":d[0][\"standardPrice\"],\n",
        "                        \n",
        "                    })\n",
        "            nr.append(r)\n",
        "        except:\n",
        "            print(\"err\")\n",
        "    except:\n",
        "        print(\"error\")\n"
      ]
    },
    {
      "cell_type": "code",
      "execution_count": 147,
      "metadata": {},
      "outputs": [
        {
          "data": {
            "text/plain": [
              "{}"
            ]
          },
          "execution_count": 147,
          "metadata": {},
          "output_type": "execute_result"
        }
      ],
      "source": [
        "to_replace_label"
      ]
    },
    {
      "cell_type": "code",
      "execution_count": 148,
      "metadata": {},
      "outputs": [],
      "source": [
        "df['label'].replace(to_replace_label,inplace=True)"
      ]
    },
    {
      "cell_type": "code",
      "execution_count": 149,
      "metadata": {},
      "outputs": [
        {
          "data": {
            "text/plain": [
              "array(['rice', 'maize', 'spinach', 'cucumber', 'potato', 'pineapple',\n",
              "       'tomato', 'cabbage', 'green-capsicum', 'onion', 'mango',\n",
              "       'bottle-gourd', 'watermelon', 'muskmelon', 'apple', 'radish',\n",
              "       'beetroot', 'coconut', 'cotton', 'green-chilli', 'coffee'],\n",
              "      dtype=object)"
            ]
          },
          "execution_count": 149,
          "metadata": {},
          "output_type": "execute_result"
        }
      ],
      "source": [
        "df['label'].unique()"
      ]
    },
    {
      "cell_type": "code",
      "execution_count": 150,
      "metadata": {},
      "outputs": [],
      "source": [
        "# df.to_csv(\"to_save_ang_li.csv\",index=False)"
      ]
    },
    {
      "cell_type": "code",
      "execution_count": null,
      "metadata": {},
      "outputs": [],
      "source": []
    }
  ],
  "metadata": {
    "colab": {
      "provenance": []
    },
    "kernelspec": {
      "display_name": "Python 3",
      "name": "python3"
    },
    "language_info": {
      "codemirror_mode": {
        "name": "ipython",
        "version": 3
      },
      "file_extension": ".py",
      "mimetype": "text/x-python",
      "name": "python",
      "nbconvert_exporter": "python",
      "pygments_lexer": "ipython3",
      "version": "3.9.7"
    }
  },
  "nbformat": 4,
  "nbformat_minor": 0
}
