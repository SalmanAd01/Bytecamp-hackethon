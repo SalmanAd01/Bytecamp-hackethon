{
  "cells": [
    {
      "cell_type": "code",
      "execution_count": 1,
      "metadata": {
        "id": "uDS9vpzEfb_I"
      },
      "outputs": [],
      "source": [
        "import pandas as pd\n",
        "import numpy as np\n",
        "import matplotlib.pyplot as plt"
      ]
    },
    {
      "cell_type": "code",
      "execution_count": 2,
      "metadata": {
        "colab": {
          "base_uri": "https://localhost:8080/",
          "height": 206
        },
        "id": "GXiGp8Rff0Vp",
        "outputId": "588404ea-9265-40d3-aa72-f9cbb8815691"
      },
      "outputs": [
        {
          "data": {
            "text/html": [
              "<div>\n",
              "<style scoped>\n",
              "    .dataframe tbody tr th:only-of-type {\n",
              "        vertical-align: middle;\n",
              "    }\n",
              "\n",
              "    .dataframe tbody tr th {\n",
              "        vertical-align: top;\n",
              "    }\n",
              "\n",
              "    .dataframe thead th {\n",
              "        text-align: right;\n",
              "    }\n",
              "</style>\n",
              "<table border=\"1\" class=\"dataframe\">\n",
              "  <thead>\n",
              "    <tr style=\"text-align: right;\">\n",
              "      <th></th>\n",
              "      <th>Unnamed: 0</th>\n",
              "      <th>State_Name</th>\n",
              "      <th>District_Name</th>\n",
              "      <th>Crop_Year</th>\n",
              "      <th>Season</th>\n",
              "      <th>Crop</th>\n",
              "      <th>Area</th>\n",
              "      <th>Production</th>\n",
              "    </tr>\n",
              "  </thead>\n",
              "  <tbody>\n",
              "    <tr>\n",
              "      <th>0</th>\n",
              "      <td>125191</td>\n",
              "      <td>Maharashtra</td>\n",
              "      <td>AHMEDNAGAR</td>\n",
              "      <td>1997</td>\n",
              "      <td>Autumn</td>\n",
              "      <td>Maize</td>\n",
              "      <td>1.0</td>\n",
              "      <td>1113.0</td>\n",
              "    </tr>\n",
              "    <tr>\n",
              "      <th>1</th>\n",
              "      <td>125192</td>\n",
              "      <td>Maharashtra</td>\n",
              "      <td>AHMEDNAGAR</td>\n",
              "      <td>1997</td>\n",
              "      <td>Kharif</td>\n",
              "      <td>Arhar/Tur</td>\n",
              "      <td>17600.0</td>\n",
              "      <td>6300.0</td>\n",
              "    </tr>\n",
              "    <tr>\n",
              "      <th>2</th>\n",
              "      <td>125193</td>\n",
              "      <td>Maharashtra</td>\n",
              "      <td>AHMEDNAGAR</td>\n",
              "      <td>1997</td>\n",
              "      <td>Kharif</td>\n",
              "      <td>Bajra</td>\n",
              "      <td>274100.0</td>\n",
              "      <td>152800.0</td>\n",
              "    </tr>\n",
              "    <tr>\n",
              "      <th>3</th>\n",
              "      <td>125194</td>\n",
              "      <td>Maharashtra</td>\n",
              "      <td>AHMEDNAGAR</td>\n",
              "      <td>1997</td>\n",
              "      <td>Kharif</td>\n",
              "      <td>Gram</td>\n",
              "      <td>40800.0</td>\n",
              "      <td>18600.0</td>\n",
              "    </tr>\n",
              "    <tr>\n",
              "      <th>4</th>\n",
              "      <td>125195</td>\n",
              "      <td>Maharashtra</td>\n",
              "      <td>AHMEDNAGAR</td>\n",
              "      <td>1997</td>\n",
              "      <td>Kharif</td>\n",
              "      <td>Jowar</td>\n",
              "      <td>900.0</td>\n",
              "      <td>1100.0</td>\n",
              "    </tr>\n",
              "  </tbody>\n",
              "</table>\n",
              "</div>"
            ],
            "text/plain": [
              "   Unnamed: 0   State_Name District_Name  Crop_Year       Season       Crop  \\\n",
              "0      125191  Maharashtra    AHMEDNAGAR       1997  Autumn           Maize   \n",
              "1      125192  Maharashtra    AHMEDNAGAR       1997  Kharif       Arhar/Tur   \n",
              "2      125193  Maharashtra    AHMEDNAGAR       1997  Kharif           Bajra   \n",
              "3      125194  Maharashtra    AHMEDNAGAR       1997  Kharif            Gram   \n",
              "4      125195  Maharashtra    AHMEDNAGAR       1997  Kharif           Jowar   \n",
              "\n",
              "       Area  Production  \n",
              "0       1.0      1113.0  \n",
              "1   17600.0      6300.0  \n",
              "2  274100.0    152800.0  \n",
              "3   40800.0     18600.0  \n",
              "4     900.0      1100.0  "
            ]
          },
          "execution_count": 2,
          "metadata": {},
          "output_type": "execute_result"
        }
      ],
      "source": [
        "df = pd.read_csv('./MAHACROPS (1).csv')\n",
        "df.head()"
      ]
    },
    {
      "cell_type": "code",
      "execution_count": 3,
      "metadata": {
        "colab": {
          "base_uri": "https://localhost:8080/",
          "height": 206
        },
        "id": "UO0rPuYLhN6E",
        "outputId": "30ebada7-b043-4bda-9ad2-95da95ce02e2"
      },
      "outputs": [
        {
          "data": {
            "text/html": [
              "<div>\n",
              "<style scoped>\n",
              "    .dataframe tbody tr th:only-of-type {\n",
              "        vertical-align: middle;\n",
              "    }\n",
              "\n",
              "    .dataframe tbody tr th {\n",
              "        vertical-align: top;\n",
              "    }\n",
              "\n",
              "    .dataframe thead th {\n",
              "        text-align: right;\n",
              "    }\n",
              "</style>\n",
              "<table border=\"1\" class=\"dataframe\">\n",
              "  <thead>\n",
              "    <tr style=\"text-align: right;\">\n",
              "      <th></th>\n",
              "      <th>District_Name</th>\n",
              "      <th>Season</th>\n",
              "      <th>Crop</th>\n",
              "      <th>Area</th>\n",
              "      <th>Production</th>\n",
              "    </tr>\n",
              "  </thead>\n",
              "  <tbody>\n",
              "    <tr>\n",
              "      <th>0</th>\n",
              "      <td>AHMEDNAGAR</td>\n",
              "      <td>Autumn</td>\n",
              "      <td>Maize</td>\n",
              "      <td>1.0</td>\n",
              "      <td>1113.0</td>\n",
              "    </tr>\n",
              "    <tr>\n",
              "      <th>1</th>\n",
              "      <td>AHMEDNAGAR</td>\n",
              "      <td>Kharif</td>\n",
              "      <td>Arhar/Tur</td>\n",
              "      <td>17600.0</td>\n",
              "      <td>6300.0</td>\n",
              "    </tr>\n",
              "    <tr>\n",
              "      <th>2</th>\n",
              "      <td>AHMEDNAGAR</td>\n",
              "      <td>Kharif</td>\n",
              "      <td>Bajra</td>\n",
              "      <td>274100.0</td>\n",
              "      <td>152800.0</td>\n",
              "    </tr>\n",
              "    <tr>\n",
              "      <th>3</th>\n",
              "      <td>AHMEDNAGAR</td>\n",
              "      <td>Kharif</td>\n",
              "      <td>Gram</td>\n",
              "      <td>40800.0</td>\n",
              "      <td>18600.0</td>\n",
              "    </tr>\n",
              "    <tr>\n",
              "      <th>4</th>\n",
              "      <td>AHMEDNAGAR</td>\n",
              "      <td>Kharif</td>\n",
              "      <td>Jowar</td>\n",
              "      <td>900.0</td>\n",
              "      <td>1100.0</td>\n",
              "    </tr>\n",
              "  </tbody>\n",
              "</table>\n",
              "</div>"
            ],
            "text/plain": [
              "  District_Name       Season       Crop      Area  Production\n",
              "0    AHMEDNAGAR  Autumn           Maize       1.0      1113.0\n",
              "1    AHMEDNAGAR  Kharif       Arhar/Tur   17600.0      6300.0\n",
              "2    AHMEDNAGAR  Kharif           Bajra  274100.0    152800.0\n",
              "3    AHMEDNAGAR  Kharif            Gram   40800.0     18600.0\n",
              "4    AHMEDNAGAR  Kharif           Jowar     900.0      1100.0"
            ]
          },
          "execution_count": 3,
          "metadata": {},
          "output_type": "execute_result"
        }
      ],
      "source": [
        "df.drop(['Unnamed: 0','State_Name','Crop_Year'],axis=1,inplace=True)\n",
        "df.head()"
      ]
    },
    {
      "cell_type": "code",
      "execution_count": 4,
      "metadata": {
        "colab": {
          "base_uri": "https://localhost:8080/"
        },
        "id": "Jrg3Y_vgha24",
        "outputId": "1dd9726e-a3b1-4ba6-e519-89f48f8fdf50"
      },
      "outputs": [
        {
          "data": {
            "text/plain": [
              "34"
            ]
          },
          "execution_count": 4,
          "metadata": {},
          "output_type": "execute_result"
        }
      ],
      "source": [
        "df['Crop'].nunique()"
      ]
    },
    {
      "cell_type": "code",
      "execution_count": 5,
      "metadata": {
        "colab": {
          "base_uri": "https://localhost:8080/"
        },
        "id": "46KKlR6Bh_rK",
        "outputId": "294c702b-7e85-4529-d789-49d6a094b664"
      },
      "outputs": [
        {
          "data": {
            "text/plain": [
              "District_Name      0\n",
              "Season             0\n",
              "Crop               0\n",
              "Area               0\n",
              "Production       132\n",
              "dtype: int64"
            ]
          },
          "execution_count": 5,
          "metadata": {},
          "output_type": "execute_result"
        }
      ],
      "source": [
        "df.isnull().sum()"
      ]
    },
    {
      "cell_type": "code",
      "execution_count": 6,
      "metadata": {
        "id": "WkHGN6uBiJdj"
      },
      "outputs": [],
      "source": [
        "df.dropna(inplace=True)"
      ]
    },
    {
      "cell_type": "code",
      "execution_count": 7,
      "metadata": {
        "colab": {
          "base_uri": "https://localhost:8080/"
        },
        "id": "gqO8prUziVjF",
        "outputId": "aa5a293d-8eec-417c-c254-638e27d60cc0"
      },
      "outputs": [
        {
          "data": {
            "text/plain": [
              "District_Name    0\n",
              "Season           0\n",
              "Crop             0\n",
              "Area             0\n",
              "Production       0\n",
              "dtype: int64"
            ]
          },
          "execution_count": 7,
          "metadata": {},
          "output_type": "execute_result"
        }
      ],
      "source": [
        "df.isnull().sum()"
      ]
    },
    {
      "cell_type": "code",
      "execution_count": 8,
      "metadata": {
        "colab": {
          "base_uri": "https://localhost:8080/"
        },
        "id": "wTe0CueliY6S",
        "outputId": "3d84a003-1067-4a65-b300-b51230178ca9"
      },
      "outputs": [
        {
          "data": {
            "text/plain": [
              "(12496, 5)"
            ]
          },
          "execution_count": 8,
          "metadata": {},
          "output_type": "execute_result"
        }
      ],
      "source": [
        "df.shape"
      ]
    },
    {
      "cell_type": "code",
      "execution_count": 9,
      "metadata": {
        "id": "AB3rG3Tpia2x"
      },
      "outputs": [],
      "source": [
        "df1=pd.get_dummies(data=df)"
      ]
    },
    {
      "cell_type": "code",
      "execution_count": 10,
      "metadata": {
        "colab": {
          "base_uri": "https://localhost:8080/",
          "height": 317
        },
        "id": "I1lB5Ib9i7K1",
        "outputId": "2d719ae1-bc32-45d2-f41b-f47d26e6129c"
      },
      "outputs": [
        {
          "data": {
            "text/html": [
              "<div>\n",
              "<style scoped>\n",
              "    .dataframe tbody tr th:only-of-type {\n",
              "        vertical-align: middle;\n",
              "    }\n",
              "\n",
              "    .dataframe tbody tr th {\n",
              "        vertical-align: top;\n",
              "    }\n",
              "\n",
              "    .dataframe thead th {\n",
              "        text-align: right;\n",
              "    }\n",
              "</style>\n",
              "<table border=\"1\" class=\"dataframe\">\n",
              "  <thead>\n",
              "    <tr style=\"text-align: right;\">\n",
              "      <th></th>\n",
              "      <th>Area</th>\n",
              "      <th>Production</th>\n",
              "      <th>District_Name_AHMEDNAGAR</th>\n",
              "      <th>District_Name_AKOLA</th>\n",
              "      <th>District_Name_AMRAVATI</th>\n",
              "      <th>District_Name_AURANGABAD</th>\n",
              "      <th>District_Name_BEED</th>\n",
              "      <th>District_Name_BHANDARA</th>\n",
              "      <th>District_Name_BULDHANA</th>\n",
              "      <th>District_Name_CHANDRAPUR</th>\n",
              "      <th>...</th>\n",
              "      <th>Crop_Small millets</th>\n",
              "      <th>Crop_Soyabean</th>\n",
              "      <th>Crop_Sugarcane</th>\n",
              "      <th>Crop_Sunflower</th>\n",
              "      <th>Crop_Tobacco</th>\n",
              "      <th>Crop_Tomato</th>\n",
              "      <th>Crop_Total foodgrain</th>\n",
              "      <th>Crop_Urad</th>\n",
              "      <th>Crop_Wheat</th>\n",
              "      <th>Crop_other oilseeds</th>\n",
              "    </tr>\n",
              "  </thead>\n",
              "  <tbody>\n",
              "    <tr>\n",
              "      <th>0</th>\n",
              "      <td>1.0</td>\n",
              "      <td>1113.0</td>\n",
              "      <td>1</td>\n",
              "      <td>0</td>\n",
              "      <td>0</td>\n",
              "      <td>0</td>\n",
              "      <td>0</td>\n",
              "      <td>0</td>\n",
              "      <td>0</td>\n",
              "      <td>0</td>\n",
              "      <td>...</td>\n",
              "      <td>0</td>\n",
              "      <td>0</td>\n",
              "      <td>0</td>\n",
              "      <td>0</td>\n",
              "      <td>0</td>\n",
              "      <td>0</td>\n",
              "      <td>0</td>\n",
              "      <td>0</td>\n",
              "      <td>0</td>\n",
              "      <td>0</td>\n",
              "    </tr>\n",
              "    <tr>\n",
              "      <th>1</th>\n",
              "      <td>17600.0</td>\n",
              "      <td>6300.0</td>\n",
              "      <td>1</td>\n",
              "      <td>0</td>\n",
              "      <td>0</td>\n",
              "      <td>0</td>\n",
              "      <td>0</td>\n",
              "      <td>0</td>\n",
              "      <td>0</td>\n",
              "      <td>0</td>\n",
              "      <td>...</td>\n",
              "      <td>0</td>\n",
              "      <td>0</td>\n",
              "      <td>0</td>\n",
              "      <td>0</td>\n",
              "      <td>0</td>\n",
              "      <td>0</td>\n",
              "      <td>0</td>\n",
              "      <td>0</td>\n",
              "      <td>0</td>\n",
              "      <td>0</td>\n",
              "    </tr>\n",
              "    <tr>\n",
              "      <th>2</th>\n",
              "      <td>274100.0</td>\n",
              "      <td>152800.0</td>\n",
              "      <td>1</td>\n",
              "      <td>0</td>\n",
              "      <td>0</td>\n",
              "      <td>0</td>\n",
              "      <td>0</td>\n",
              "      <td>0</td>\n",
              "      <td>0</td>\n",
              "      <td>0</td>\n",
              "      <td>...</td>\n",
              "      <td>0</td>\n",
              "      <td>0</td>\n",
              "      <td>0</td>\n",
              "      <td>0</td>\n",
              "      <td>0</td>\n",
              "      <td>0</td>\n",
              "      <td>0</td>\n",
              "      <td>0</td>\n",
              "      <td>0</td>\n",
              "      <td>0</td>\n",
              "    </tr>\n",
              "    <tr>\n",
              "      <th>3</th>\n",
              "      <td>40800.0</td>\n",
              "      <td>18600.0</td>\n",
              "      <td>1</td>\n",
              "      <td>0</td>\n",
              "      <td>0</td>\n",
              "      <td>0</td>\n",
              "      <td>0</td>\n",
              "      <td>0</td>\n",
              "      <td>0</td>\n",
              "      <td>0</td>\n",
              "      <td>...</td>\n",
              "      <td>0</td>\n",
              "      <td>0</td>\n",
              "      <td>0</td>\n",
              "      <td>0</td>\n",
              "      <td>0</td>\n",
              "      <td>0</td>\n",
              "      <td>0</td>\n",
              "      <td>0</td>\n",
              "      <td>0</td>\n",
              "      <td>0</td>\n",
              "    </tr>\n",
              "    <tr>\n",
              "      <th>4</th>\n",
              "      <td>900.0</td>\n",
              "      <td>1100.0</td>\n",
              "      <td>1</td>\n",
              "      <td>0</td>\n",
              "      <td>0</td>\n",
              "      <td>0</td>\n",
              "      <td>0</td>\n",
              "      <td>0</td>\n",
              "      <td>0</td>\n",
              "      <td>0</td>\n",
              "      <td>...</td>\n",
              "      <td>0</td>\n",
              "      <td>0</td>\n",
              "      <td>0</td>\n",
              "      <td>0</td>\n",
              "      <td>0</td>\n",
              "      <td>0</td>\n",
              "      <td>0</td>\n",
              "      <td>0</td>\n",
              "      <td>0</td>\n",
              "      <td>0</td>\n",
              "    </tr>\n",
              "  </tbody>\n",
              "</table>\n",
              "<p>5 rows × 76 columns</p>\n",
              "</div>"
            ],
            "text/plain": [
              "       Area  Production  District_Name_AHMEDNAGAR  District_Name_AKOLA  \\\n",
              "0       1.0      1113.0                         1                    0   \n",
              "1   17600.0      6300.0                         1                    0   \n",
              "2  274100.0    152800.0                         1                    0   \n",
              "3   40800.0     18600.0                         1                    0   \n",
              "4     900.0      1100.0                         1                    0   \n",
              "\n",
              "   District_Name_AMRAVATI  District_Name_AURANGABAD  District_Name_BEED  \\\n",
              "0                       0                         0                   0   \n",
              "1                       0                         0                   0   \n",
              "2                       0                         0                   0   \n",
              "3                       0                         0                   0   \n",
              "4                       0                         0                   0   \n",
              "\n",
              "   District_Name_BHANDARA  District_Name_BULDHANA  District_Name_CHANDRAPUR  \\\n",
              "0                       0                       0                         0   \n",
              "1                       0                       0                         0   \n",
              "2                       0                       0                         0   \n",
              "3                       0                       0                         0   \n",
              "4                       0                       0                         0   \n",
              "\n",
              "   ...  Crop_Small millets  Crop_Soyabean  Crop_Sugarcane  Crop_Sunflower  \\\n",
              "0  ...                   0              0               0               0   \n",
              "1  ...                   0              0               0               0   \n",
              "2  ...                   0              0               0               0   \n",
              "3  ...                   0              0               0               0   \n",
              "4  ...                   0              0               0               0   \n",
              "\n",
              "   Crop_Tobacco  Crop_Tomato  Crop_Total foodgrain  Crop_Urad  Crop_Wheat  \\\n",
              "0             0            0                     0          0           0   \n",
              "1             0            0                     0          0           0   \n",
              "2             0            0                     0          0           0   \n",
              "3             0            0                     0          0           0   \n",
              "4             0            0                     0          0           0   \n",
              "\n",
              "   Crop_other oilseeds  \n",
              "0                    0  \n",
              "1                    0  \n",
              "2                    0  \n",
              "3                    0  \n",
              "4                    0  \n",
              "\n",
              "[5 rows x 76 columns]"
            ]
          },
          "execution_count": 10,
          "metadata": {},
          "output_type": "execute_result"
        }
      ],
      "source": [
        "df1.head()"
      ]
    },
    {
      "cell_type": "code",
      "execution_count": 11,
      "metadata": {
        "colab": {
          "base_uri": "https://localhost:8080/"
        },
        "id": "Fsznlb8oi-lN",
        "outputId": "a9e244b9-3835-4bd3-92a8-d2d534723c25"
      },
      "outputs": [
        {
          "data": {
            "text/plain": [
              "Index(['Area', 'Production', 'District_Name_AHMEDNAGAR', 'District_Name_AKOLA',\n",
              "       'District_Name_AMRAVATI', 'District_Name_AURANGABAD',\n",
              "       'District_Name_BEED', 'District_Name_BHANDARA',\n",
              "       'District_Name_BULDHANA', 'District_Name_CHANDRAPUR',\n",
              "       'District_Name_DHULE', 'District_Name_GADCHIROLI',\n",
              "       'District_Name_GONDIA', 'District_Name_HINGOLI',\n",
              "       'District_Name_JALGAON', 'District_Name_JALNA',\n",
              "       'District_Name_KOLHAPUR', 'District_Name_LATUR', 'District_Name_MUMBAI',\n",
              "       'District_Name_NAGPUR', 'District_Name_NANDED',\n",
              "       'District_Name_NANDURBAR', 'District_Name_NASHIK',\n",
              "       'District_Name_OSMANABAD', 'District_Name_PALGHAR',\n",
              "       'District_Name_PARBHANI', 'District_Name_PUNE', 'District_Name_RAIGAD',\n",
              "       'District_Name_RATNAGIRI', 'District_Name_SANGLI',\n",
              "       'District_Name_SATARA', 'District_Name_SINDHUDURG',\n",
              "       'District_Name_SOLAPUR', 'District_Name_THANE', 'District_Name_WARDHA',\n",
              "       'District_Name_WASHIM', 'District_Name_YAVATMAL', 'Season_Autumn     ',\n",
              "       'Season_Kharif     ', 'Season_Rabi       ', 'Season_Summer     ',\n",
              "       'Season_Whole Year ', 'Crop_Arhar/Tur', 'Crop_Bajra', 'Crop_Banana',\n",
              "       'Crop_Castor seed', 'Crop_Cotton(lint)', 'Crop_Gram', 'Crop_Grapes',\n",
              "       'Crop_Groundnut', 'Crop_Jowar', 'Crop_Linseed', 'Crop_Maize',\n",
              "       'Crop_Mango', 'Crop_Moong(Green Gram)', 'Crop_Niger seed', 'Crop_Onion',\n",
              "       'Crop_Other  Rabi pulses', 'Crop_Other Cereals & Millets',\n",
              "       'Crop_Other Kharif pulses', 'Crop_Pulses total', 'Crop_Ragi',\n",
              "       'Crop_Rapeseed &Mustard', 'Crop_Rice', 'Crop_Safflower', 'Crop_Sesamum',\n",
              "       'Crop_Small millets', 'Crop_Soyabean', 'Crop_Sugarcane',\n",
              "       'Crop_Sunflower', 'Crop_Tobacco', 'Crop_Tomato', 'Crop_Total foodgrain',\n",
              "       'Crop_Urad', 'Crop_Wheat', 'Crop_other oilseeds'],\n",
              "      dtype='object')"
            ]
          },
          "execution_count": 11,
          "metadata": {},
          "output_type": "execute_result"
        }
      ],
      "source": [
        "df1.columns"
      ]
    },
    {
      "cell_type": "code",
      "execution_count": 12,
      "metadata": {
        "colab": {
          "base_uri": "https://localhost:8080/"
        },
        "id": "ReuIxfdHjPHo",
        "outputId": "72b43ac7-18c5-4ec7-fdb2-6ef97e33e43e"
      },
      "outputs": [
        {
          "data": {
            "text/plain": [
              "(12496, 76)"
            ]
          },
          "execution_count": 12,
          "metadata": {},
          "output_type": "execute_result"
        }
      ],
      "source": [
        "df1.shape"
      ]
    },
    {
      "cell_type": "code",
      "execution_count": 13,
      "metadata": {
        "id": "YC9cEHcTkAGC"
      },
      "outputs": [],
      "source": [
        "X = df1.drop('Production',axis=1)\n",
        "y = df1['Production']"
      ]
    },
    {
      "cell_type": "code",
      "execution_count": 14,
      "metadata": {
        "colab": {
          "base_uri": "https://localhost:8080/"
        },
        "id": "BKKZgFH2lEFx",
        "outputId": "c54dab8b-9527-4ae2-ebc4-39022ba0901d"
      },
      "outputs": [
        {
          "data": {
            "text/plain": [
              "0      1113.0\n",
              "1      6300.0\n",
              "2    152800.0\n",
              "3     18600.0\n",
              "4      1100.0\n",
              "Name: Production, dtype: float64"
            ]
          },
          "execution_count": 14,
          "metadata": {},
          "output_type": "execute_result"
        }
      ],
      "source": [
        "y.head()"
      ]
    },
    {
      "cell_type": "code",
      "execution_count": 15,
      "metadata": {
        "id": "A_Mn1w7PjYYg"
      },
      "outputs": [],
      "source": [
        "from sklearn.model_selection import train_test_split\n",
        "X_train, X_test, y_train, y_test = train_test_split( X, y, test_size=0.33, random_state=42)"
      ]
    },
    {
      "cell_type": "code",
      "execution_count": 16,
      "metadata": {
        "colab": {
          "base_uri": "https://localhost:8080/"
        },
        "id": "kZT2Ww0cwS-z",
        "outputId": "600ec17c-0a91-414c-b97d-c433689e1ad6"
      },
      "outputs": [
        {
          "data": {
            "text/plain": [
              "Index(['Area', 'District_Name_AHMEDNAGAR', 'District_Name_AKOLA',\n",
              "       'District_Name_AMRAVATI', 'District_Name_AURANGABAD',\n",
              "       'District_Name_BEED', 'District_Name_BHANDARA',\n",
              "       'District_Name_BULDHANA', 'District_Name_CHANDRAPUR',\n",
              "       'District_Name_DHULE', 'District_Name_GADCHIROLI',\n",
              "       'District_Name_GONDIA', 'District_Name_HINGOLI',\n",
              "       'District_Name_JALGAON', 'District_Name_JALNA',\n",
              "       'District_Name_KOLHAPUR', 'District_Name_LATUR', 'District_Name_MUMBAI',\n",
              "       'District_Name_NAGPUR', 'District_Name_NANDED',\n",
              "       'District_Name_NANDURBAR', 'District_Name_NASHIK',\n",
              "       'District_Name_OSMANABAD', 'District_Name_PALGHAR',\n",
              "       'District_Name_PARBHANI', 'District_Name_PUNE', 'District_Name_RAIGAD',\n",
              "       'District_Name_RATNAGIRI', 'District_Name_SANGLI',\n",
              "       'District_Name_SATARA', 'District_Name_SINDHUDURG',\n",
              "       'District_Name_SOLAPUR', 'District_Name_THANE', 'District_Name_WARDHA',\n",
              "       'District_Name_WASHIM', 'District_Name_YAVATMAL', 'Season_Autumn     ',\n",
              "       'Season_Kharif     ', 'Season_Rabi       ', 'Season_Summer     ',\n",
              "       'Season_Whole Year ', 'Crop_Arhar/Tur', 'Crop_Bajra', 'Crop_Banana',\n",
              "       'Crop_Castor seed', 'Crop_Cotton(lint)', 'Crop_Gram', 'Crop_Grapes',\n",
              "       'Crop_Groundnut', 'Crop_Jowar', 'Crop_Linseed', 'Crop_Maize',\n",
              "       'Crop_Mango', 'Crop_Moong(Green Gram)', 'Crop_Niger seed', 'Crop_Onion',\n",
              "       'Crop_Other  Rabi pulses', 'Crop_Other Cereals & Millets',\n",
              "       'Crop_Other Kharif pulses', 'Crop_Pulses total', 'Crop_Ragi',\n",
              "       'Crop_Rapeseed &Mustard', 'Crop_Rice', 'Crop_Safflower', 'Crop_Sesamum',\n",
              "       'Crop_Small millets', 'Crop_Soyabean', 'Crop_Sugarcane',\n",
              "       'Crop_Sunflower', 'Crop_Tobacco', 'Crop_Tomato', 'Crop_Total foodgrain',\n",
              "       'Crop_Urad', 'Crop_Wheat', 'Crop_other oilseeds'],\n",
              "      dtype='object')"
            ]
          },
          "execution_count": 16,
          "metadata": {},
          "output_type": "execute_result"
        }
      ],
      "source": [
        "X_train.columns"
      ]
    },
    {
      "cell_type": "code",
      "execution_count": 17,
      "metadata": {
        "colab": {
          "base_uri": "https://localhost:8080/",
          "height": 74
        },
        "id": "JduZiNbvlWkz",
        "outputId": "fa5be447-d587-4f3c-8696-5664edf97e1c"
      },
      "outputs": [
        {
          "data": {
            "text/html": [
              "<style>#sk-container-id-1 {color: black;background-color: white;}#sk-container-id-1 pre{padding: 0;}#sk-container-id-1 div.sk-toggleable {background-color: white;}#sk-container-id-1 label.sk-toggleable__label {cursor: pointer;display: block;width: 100%;margin-bottom: 0;padding: 0.3em;box-sizing: border-box;text-align: center;}#sk-container-id-1 label.sk-toggleable__label-arrow:before {content: \"▸\";float: left;margin-right: 0.25em;color: #696969;}#sk-container-id-1 label.sk-toggleable__label-arrow:hover:before {color: black;}#sk-container-id-1 div.sk-estimator:hover label.sk-toggleable__label-arrow:before {color: black;}#sk-container-id-1 div.sk-toggleable__content {max-height: 0;max-width: 0;overflow: hidden;text-align: left;background-color: #f0f8ff;}#sk-container-id-1 div.sk-toggleable__content pre {margin: 0.2em;color: black;border-radius: 0.25em;background-color: #f0f8ff;}#sk-container-id-1 input.sk-toggleable__control:checked~div.sk-toggleable__content {max-height: 200px;max-width: 100%;overflow: auto;}#sk-container-id-1 input.sk-toggleable__control:checked~label.sk-toggleable__label-arrow:before {content: \"▾\";}#sk-container-id-1 div.sk-estimator input.sk-toggleable__control:checked~label.sk-toggleable__label {background-color: #d4ebff;}#sk-container-id-1 div.sk-label input.sk-toggleable__control:checked~label.sk-toggleable__label {background-color: #d4ebff;}#sk-container-id-1 input.sk-hidden--visually {border: 0;clip: rect(1px 1px 1px 1px);clip: rect(1px, 1px, 1px, 1px);height: 1px;margin: -1px;overflow: hidden;padding: 0;position: absolute;width: 1px;}#sk-container-id-1 div.sk-estimator {font-family: monospace;background-color: #f0f8ff;border: 1px dotted black;border-radius: 0.25em;box-sizing: border-box;margin-bottom: 0.5em;}#sk-container-id-1 div.sk-estimator:hover {background-color: #d4ebff;}#sk-container-id-1 div.sk-parallel-item::after {content: \"\";width: 100%;border-bottom: 1px solid gray;flex-grow: 1;}#sk-container-id-1 div.sk-label:hover label.sk-toggleable__label {background-color: #d4ebff;}#sk-container-id-1 div.sk-serial::before {content: \"\";position: absolute;border-left: 1px solid gray;box-sizing: border-box;top: 0;bottom: 0;left: 50%;z-index: 0;}#sk-container-id-1 div.sk-serial {display: flex;flex-direction: column;align-items: center;background-color: white;padding-right: 0.2em;padding-left: 0.2em;position: relative;}#sk-container-id-1 div.sk-item {position: relative;z-index: 1;}#sk-container-id-1 div.sk-parallel {display: flex;align-items: stretch;justify-content: center;background-color: white;position: relative;}#sk-container-id-1 div.sk-item::before, #sk-container-id-1 div.sk-parallel-item::before {content: \"\";position: absolute;border-left: 1px solid gray;box-sizing: border-box;top: 0;bottom: 0;left: 50%;z-index: -1;}#sk-container-id-1 div.sk-parallel-item {display: flex;flex-direction: column;z-index: 1;position: relative;background-color: white;}#sk-container-id-1 div.sk-parallel-item:first-child::after {align-self: flex-end;width: 50%;}#sk-container-id-1 div.sk-parallel-item:last-child::after {align-self: flex-start;width: 50%;}#sk-container-id-1 div.sk-parallel-item:only-child::after {width: 0;}#sk-container-id-1 div.sk-dashed-wrapped {border: 1px dashed gray;margin: 0 0.4em 0.5em 0.4em;box-sizing: border-box;padding-bottom: 0.4em;background-color: white;}#sk-container-id-1 div.sk-label label {font-family: monospace;font-weight: bold;display: inline-block;line-height: 1.2em;}#sk-container-id-1 div.sk-label-container {text-align: center;}#sk-container-id-1 div.sk-container {/* jupyter's `normalize.less` sets `[hidden] { display: none; }` but bootstrap.min.css set `[hidden] { display: none !important; }` so we also need the `!important` here to be able to override the default hidden behavior on the sphinx rendered scikit-learn.org. See: https://github.com/scikit-learn/scikit-learn/issues/21755 */display: inline-block !important;position: relative;}#sk-container-id-1 div.sk-text-repr-fallback {display: none;}</style><div id=\"sk-container-id-1\" class=\"sk-top-container\"><div class=\"sk-text-repr-fallback\"><pre>LinearRegression()</pre><b>In a Jupyter environment, please rerun this cell to show the HTML representation or trust the notebook. <br />On GitHub, the HTML representation is unable to render, please try loading this page with nbviewer.org.</b></div><div class=\"sk-container\" hidden><div class=\"sk-item\"><div class=\"sk-estimator sk-toggleable\"><input class=\"sk-toggleable__control sk-hidden--visually\" id=\"sk-estimator-id-1\" type=\"checkbox\" checked><label for=\"sk-estimator-id-1\" class=\"sk-toggleable__label sk-toggleable__label-arrow\">LinearRegression</label><div class=\"sk-toggleable__content\"><pre>LinearRegression()</pre></div></div></div></div></div>"
            ],
            "text/plain": [
              "LinearRegression()"
            ]
          },
          "execution_count": 17,
          "metadata": {},
          "output_type": "execute_result"
        }
      ],
      "source": [
        "from sklearn.linear_model import LinearRegression\n",
        "crop_model = LinearRegression()\n",
        "crop_model.fit(X_train,y_train)"
      ]
    },
    {
      "cell_type": "code",
      "execution_count": 18,
      "metadata": {
        "colab": {
          "base_uri": "https://localhost:8080/"
        },
        "id": "qjy17LsAl6kD",
        "outputId": "a4875978-9387-43e9-f67f-58f71b34ee36"
      },
      "outputs": [
        {
          "data": {
            "text/plain": [
              "array([  -6480.2776669 ,  157850.84428646,  186566.11983065, ...,\n",
              "        -28806.85799988, -245082.72055071,  -19937.8511679 ])"
            ]
          },
          "execution_count": 18,
          "metadata": {},
          "output_type": "execute_result"
        }
      ],
      "source": [
        "crop_predictions = crop_model.predict(X_test)\n",
        "crop_predictions"
      ]
    },
    {
      "cell_type": "code",
      "execution_count": 19,
      "metadata": {
        "colab": {
          "base_uri": "https://localhost:8080/"
        },
        "id": "eIZZjHQPohi_",
        "outputId": "2c46d5c9-1ef2-404f-c5f3-b73ae5025665"
      },
      "outputs": [
        {
          "data": {
            "text/plain": [
              "array([  -6480.2776669 ,  157850.84428646,  186566.11983065, ...,\n",
              "        -28806.85799988, -245082.72055071,  -19937.8511679 ])"
            ]
          },
          "execution_count": 19,
          "metadata": {},
          "output_type": "execute_result"
        }
      ],
      "source": [
        "crop_predictions = crop_model.predict(X_test)\n",
        "crop_predictions"
      ]
    },
    {
      "cell_type": "code",
      "execution_count": 20,
      "metadata": {
        "id": "Zbj73BTOohfj"
      },
      "outputs": [],
      "source": [
        "acc=crop_model.score(X_test,y_test)"
      ]
    },
    {
      "cell_type": "code",
      "execution_count": 21,
      "metadata": {
        "colab": {
          "base_uri": "https://localhost:8080/"
        },
        "id": "R6XsXHf-ohcr",
        "outputId": "17205294-87f0-4fa3-8bbf-75b2e6f6489d"
      },
      "outputs": [
        {
          "data": {
            "text/plain": [
              "0.3082088306296139"
            ]
          },
          "execution_count": 21,
          "metadata": {},
          "output_type": "execute_result"
        }
      ],
      "source": [
        "acc"
      ]
    },
    {
      "cell_type": "code",
      "execution_count": 22,
      "metadata": {
        "colab": {
          "base_uri": "https://localhost:8080/",
          "height": 74
        },
        "id": "ODb-ec2lohUk",
        "outputId": "cb22de17-49e8-473b-df3f-7cf9284e8915"
      },
      "outputs": [
        {
          "data": {
            "text/html": [
              "<style>#sk-container-id-2 {color: black;background-color: white;}#sk-container-id-2 pre{padding: 0;}#sk-container-id-2 div.sk-toggleable {background-color: white;}#sk-container-id-2 label.sk-toggleable__label {cursor: pointer;display: block;width: 100%;margin-bottom: 0;padding: 0.3em;box-sizing: border-box;text-align: center;}#sk-container-id-2 label.sk-toggleable__label-arrow:before {content: \"▸\";float: left;margin-right: 0.25em;color: #696969;}#sk-container-id-2 label.sk-toggleable__label-arrow:hover:before {color: black;}#sk-container-id-2 div.sk-estimator:hover label.sk-toggleable__label-arrow:before {color: black;}#sk-container-id-2 div.sk-toggleable__content {max-height: 0;max-width: 0;overflow: hidden;text-align: left;background-color: #f0f8ff;}#sk-container-id-2 div.sk-toggleable__content pre {margin: 0.2em;color: black;border-radius: 0.25em;background-color: #f0f8ff;}#sk-container-id-2 input.sk-toggleable__control:checked~div.sk-toggleable__content {max-height: 200px;max-width: 100%;overflow: auto;}#sk-container-id-2 input.sk-toggleable__control:checked~label.sk-toggleable__label-arrow:before {content: \"▾\";}#sk-container-id-2 div.sk-estimator input.sk-toggleable__control:checked~label.sk-toggleable__label {background-color: #d4ebff;}#sk-container-id-2 div.sk-label input.sk-toggleable__control:checked~label.sk-toggleable__label {background-color: #d4ebff;}#sk-container-id-2 input.sk-hidden--visually {border: 0;clip: rect(1px 1px 1px 1px);clip: rect(1px, 1px, 1px, 1px);height: 1px;margin: -1px;overflow: hidden;padding: 0;position: absolute;width: 1px;}#sk-container-id-2 div.sk-estimator {font-family: monospace;background-color: #f0f8ff;border: 1px dotted black;border-radius: 0.25em;box-sizing: border-box;margin-bottom: 0.5em;}#sk-container-id-2 div.sk-estimator:hover {background-color: #d4ebff;}#sk-container-id-2 div.sk-parallel-item::after {content: \"\";width: 100%;border-bottom: 1px solid gray;flex-grow: 1;}#sk-container-id-2 div.sk-label:hover label.sk-toggleable__label {background-color: #d4ebff;}#sk-container-id-2 div.sk-serial::before {content: \"\";position: absolute;border-left: 1px solid gray;box-sizing: border-box;top: 0;bottom: 0;left: 50%;z-index: 0;}#sk-container-id-2 div.sk-serial {display: flex;flex-direction: column;align-items: center;background-color: white;padding-right: 0.2em;padding-left: 0.2em;position: relative;}#sk-container-id-2 div.sk-item {position: relative;z-index: 1;}#sk-container-id-2 div.sk-parallel {display: flex;align-items: stretch;justify-content: center;background-color: white;position: relative;}#sk-container-id-2 div.sk-item::before, #sk-container-id-2 div.sk-parallel-item::before {content: \"\";position: absolute;border-left: 1px solid gray;box-sizing: border-box;top: 0;bottom: 0;left: 50%;z-index: -1;}#sk-container-id-2 div.sk-parallel-item {display: flex;flex-direction: column;z-index: 1;position: relative;background-color: white;}#sk-container-id-2 div.sk-parallel-item:first-child::after {align-self: flex-end;width: 50%;}#sk-container-id-2 div.sk-parallel-item:last-child::after {align-self: flex-start;width: 50%;}#sk-container-id-2 div.sk-parallel-item:only-child::after {width: 0;}#sk-container-id-2 div.sk-dashed-wrapped {border: 1px dashed gray;margin: 0 0.4em 0.5em 0.4em;box-sizing: border-box;padding-bottom: 0.4em;background-color: white;}#sk-container-id-2 div.sk-label label {font-family: monospace;font-weight: bold;display: inline-block;line-height: 1.2em;}#sk-container-id-2 div.sk-label-container {text-align: center;}#sk-container-id-2 div.sk-container {/* jupyter's `normalize.less` sets `[hidden] { display: none; }` but bootstrap.min.css set `[hidden] { display: none !important; }` so we also need the `!important` here to be able to override the default hidden behavior on the sphinx rendered scikit-learn.org. See: https://github.com/scikit-learn/scikit-learn/issues/21755 */display: inline-block !important;position: relative;}#sk-container-id-2 div.sk-text-repr-fallback {display: none;}</style><div id=\"sk-container-id-2\" class=\"sk-top-container\"><div class=\"sk-text-repr-fallback\"><pre>RandomForestRegressor()</pre><b>In a Jupyter environment, please rerun this cell to show the HTML representation or trust the notebook. <br />On GitHub, the HTML representation is unable to render, please try loading this page with nbviewer.org.</b></div><div class=\"sk-container\" hidden><div class=\"sk-item\"><div class=\"sk-estimator sk-toggleable\"><input class=\"sk-toggleable__control sk-hidden--visually\" id=\"sk-estimator-id-2\" type=\"checkbox\" checked><label for=\"sk-estimator-id-2\" class=\"sk-toggleable__label sk-toggleable__label-arrow\">RandomForestRegressor</label><div class=\"sk-toggleable__content\"><pre>RandomForestRegressor()</pre></div></div></div></div></div>"
            ],
            "text/plain": [
              "RandomForestRegressor()"
            ]
          },
          "execution_count": 22,
          "metadata": {},
          "output_type": "execute_result"
        }
      ],
      "source": [
        "from sklearn.ensemble import RandomForestRegressor\n",
        "rf=RandomForestRegressor()\n",
        "rf.fit(X_train,y_train)"
      ]
    },
    {
      "cell_type": "code",
      "execution_count": 23,
      "metadata": {
        "colab": {
          "base_uri": "https://localhost:8080/"
        },
        "id": "Ld0DQhphpFSk",
        "outputId": "eb6fe9c3-1fb9-4cad-81c2-864936c4f755"
      },
      "outputs": [
        {
          "data": {
            "text/plain": [
              "array([ 7399.91666667, 13307.        , 28167.        , ...,\n",
              "         112.33333333,   445.61777778,  4911.        ])"
            ]
          },
          "execution_count": 23,
          "metadata": {},
          "output_type": "execute_result"
        }
      ],
      "source": [
        "rf.predict(X_test)"
      ]
    },
    {
      "cell_type": "code",
      "execution_count": 24,
      "metadata": {
        "colab": {
          "base_uri": "https://localhost:8080/"
        },
        "id": "8FoXbuVspFPH",
        "outputId": "d7a85986-6291-4dad-8fea-56741de473b6"
      },
      "outputs": [
        {
          "data": {
            "text/plain": [
              "0.9651295091205567"
            ]
          },
          "execution_count": 24,
          "metadata": {},
          "output_type": "execute_result"
        }
      ],
      "source": [
        "rf.score(X_test,y_test)"
      ]
    },
    {
      "cell_type": "code",
      "execution_count": 25,
      "metadata": {
        "id": "-sSN0PU3pFNB"
      },
      "outputs": [],
      "source": [
        "def mah(Area,dist_name,season,crop):\n",
        "  mah_dict={\n",
        "      'Area':0,\n",
        "      'District_Name_AHMEDNAGAR':0,\n",
        "      'District_Name_AKOLA':0,\n",
        "      'District_Name_AMRAVATI':0,\n",
        "      'District_Name_AURANGABAD':0,\n",
        "      'District_Name_BEED':0, \n",
        "      'District_Name_BHANDARA':0,\n",
        "      'District_Name_BULDHANA':0, \n",
        "      'District_Name_CHANDRAPUR':0,\n",
        "      'District_Name_DHULE':0, \n",
        "      'District_Name_GADCHIROLI':0,\n",
        "      'District_Name_GONDIA':0, \n",
        "      'District_Name_HINGOLI':0,\n",
        "      'District_Name_JALGAON':0, \n",
        "      'District_Name_JALNA':0,\n",
        "      'District_Name_KOLHAPUR':0, \n",
        "      'District_Name_LATUR':0, \n",
        "      'District_Name_MUMBAI':0,\n",
        "      'District_Name_NAGPUR':0, \n",
        "      'District_Name_NANDED':0,\n",
        "      'District_Name_NANDURBAR':0, \n",
        "      'District_Name_NASHIK':0,\n",
        "      'District_Name_OSMANABAD':0, \n",
        "      'District_Name_PALGHAR':0,\n",
        "      'District_Name_PARBHANI':0, \n",
        "      'District_Name_PUNE':0, \n",
        "      'District_Name_RAIGAD':0,\n",
        "      'District_Name_RATNAGIRI':0, \n",
        "      'District_Name_SANGLI':0,\n",
        "      'District_Name_SATARA':0, \n",
        "      'District_Name_SINDHUDURG':0,\n",
        "      'District_Name_SOLAPUR':0, \n",
        "      'District_Name_THANE':0, \n",
        "      'District_Name_WARDHA':0,\n",
        "      'District_Name_WASHIM':0, \n",
        "      'District_Name_YAVATMAL':0, \n",
        "      'Season_Autumn     ':0,\n",
        "      'Season_Kharif     ':0, \n",
        "      'Season_Rabi       ':0, \n",
        "      'Season_Summer     ':0,\n",
        "      'Season_Whole Year ':0, \n",
        "      'Crop_Arhar/Tur':0, \n",
        "      'Crop_Bajra':0, \n",
        "      'Crop_Banana':0,\n",
        "      'Crop_Castor seed':0, \n",
        "      'Crop_Cotton(lint)':0, \n",
        "      'Crop_Gram':0, \n",
        "      'Crop_Grapes':0,\n",
        "      'Crop_Groundnut':0, \n",
        "      'Crop_Jowar':0, \n",
        "      'Crop_Linseed':0, \n",
        "      'Crop_Maize':0,\n",
        "      'Crop_Mango':0, \n",
        "      'Crop_Moong(Green Gram)':0, \n",
        "      'Crop_Niger seed':0, \n",
        "      'Crop_Onion':0,\n",
        "      'Crop_Other  Rabi pulses':0, \n",
        "      'Crop_Other Cereals & Millets':0,\n",
        "      'Crop_Other Kharif pulses':0, \n",
        "      'Crop_Pulses total':0, \n",
        "      'Crop_Ragi':0,\n",
        "      'Crop_Rapeseed &Mustard':0, \n",
        "      'Crop_Rice':0, \n",
        "      'Crop_Safflower':0, \n",
        "      'Crop_Sesamum':0,\n",
        "      'Crop_Small millets':0, \n",
        "      'Crop_Soyabean':0, \n",
        "      'Crop_Sugarcane':0,\n",
        "      'Crop_Sunflower':0, \n",
        "      'Crop_Tobacco':0, \n",
        "      'Crop_Tomato':0, \n",
        "      'Crop_Total foodgrain':0,\n",
        "      'Crop_Urad':0, \n",
        "      'Crop_Wheat':0, \n",
        "      'Crop_other oilseeds':0\n",
        "  }\n",
        "  mah_dict['Area'] = Area\n",
        "  mah_dict[dist_name] = 1\n",
        "  mah_dict[season] = 1\n",
        "  mah_dict[crop] = 1\n",
        "  data=list(mah_dict.values())\n",
        "  print(mah_dict)\n",
        "  input_arr=np.array(data)\n",
        "  return input_arr"
      ]
    },
    {
      "cell_type": "code",
      "execution_count": 26,
      "metadata": {
        "colab": {
          "base_uri": "https://localhost:8080/"
        },
        "id": "MWYwnBDwpFKo",
        "outputId": "698d61b4-739e-4f98-d9d4-e7c1ddd78d90"
      },
      "outputs": [
        {
          "name": "stdout",
          "output_type": "stream",
          "text": [
            "{'Area': 31500, 'District_Name_AHMEDNAGAR': 0, 'District_Name_AKOLA': 0, 'District_Name_AMRAVATI': 0, 'District_Name_AURANGABAD': 0, 'District_Name_BEED': 0, 'District_Name_BHANDARA': 0, 'District_Name_BULDHANA': 0, 'District_Name_CHANDRAPUR': 0, 'District_Name_DHULE': 0, 'District_Name_GADCHIROLI': 0, 'District_Name_GONDIA': 0, 'District_Name_HINGOLI': 0, 'District_Name_JALGAON': 0, 'District_Name_JALNA': 0, 'District_Name_KOLHAPUR': 0, 'District_Name_LATUR': 0, 'District_Name_MUMBAI': 0, 'District_Name_NAGPUR': 0, 'District_Name_NANDED': 1, 'District_Name_NANDURBAR': 0, 'District_Name_NASHIK': 0, 'District_Name_OSMANABAD': 0, 'District_Name_PALGHAR': 0, 'District_Name_PARBHANI': 0, 'District_Name_PUNE': 0, 'District_Name_RAIGAD': 0, 'District_Name_RATNAGIRI': 0, 'District_Name_SANGLI': 0, 'District_Name_SATARA': 0, 'District_Name_SINDHUDURG': 0, 'District_Name_SOLAPUR': 0, 'District_Name_THANE': 0, 'District_Name_WARDHA': 0, 'District_Name_WASHIM': 0, 'District_Name_YAVATMAL': 0, 'Season_Autumn     ': 0, 'Season_Kharif     ': 0, 'Season_Rabi       ': 1, 'Season_Summer     ': 0, 'Season_Whole Year ': 0, 'Crop_Arhar/Tur': 0, 'Crop_Bajra': 0, 'Crop_Banana': 0, 'Crop_Castor seed': 0, 'Crop_Cotton(lint)': 0, 'Crop_Gram': 0, 'Crop_Grapes': 0, 'Crop_Groundnut': 0, 'Crop_Jowar': 0, 'Crop_Linseed': 0, 'Crop_Maize': 0, 'Crop_Mango': 0, 'Crop_Moong(Green Gram)': 0, 'Crop_Niger seed': 0, 'Crop_Onion': 0, 'Crop_Other  Rabi pulses': 0, 'Crop_Other Cereals & Millets': 0, 'Crop_Other Kharif pulses': 0, 'Crop_Pulses total': 0, 'Crop_Ragi': 0, 'Crop_Rapeseed &Mustard': 0, 'Crop_Rice': 0, 'Crop_Safflower': 0, 'Crop_Sesamum': 0, 'Crop_Small millets': 0, 'Crop_Soyabean': 0, 'Crop_Sugarcane': 0, 'Crop_Sunflower': 0, 'Crop_Tobacco': 0, 'Crop_Tomato': 0, 'Crop_Total foodgrain': 0, 'Crop_Urad': 0, 'Crop_Wheat': 1, 'Crop_other oilseeds': 0}\n",
            "75\n",
            "[41895.66666667]\n"
          ]
        },
        {
          "name": "stderr",
          "output_type": "stream",
          "text": [
            "c:\\Users\\salman\\OneDrive\\Desktop\\Bytecamp-hackethon\\env\\lib\\site-packages\\sklearn\\base.py:439: UserWarning: X does not have valid feature names, but RandomForestRegressor was fitted with feature names\n",
            "  warnings.warn(\n"
          ]
        }
      ],
      "source": [
        "arr=mah(31500,'District_Name_NANDED','Season_Rabi       ','Crop_Wheat')\n",
        "print(len(arr))\n",
        "print(rf.predict([arr]))"
      ]
    },
    {
      "cell_type": "code",
      "execution_count": 27,
      "metadata": {
        "colab": {
          "base_uri": "https://localhost:8080/"
        },
        "id": "XKf8n17Bw4Im",
        "outputId": "6dd10902-2888-4038-b5b6-082f46bb94cd"
      },
      "outputs": [
        {
          "name": "stderr",
          "output_type": "stream",
          "text": [
            "c:\\Users\\salman\\OneDrive\\Desktop\\Bytecamp-hackethon\\env\\lib\\site-packages\\sklearn\\base.py:439: UserWarning: X does not have valid feature names, but RandomForestRegressor was fitted with feature names\n",
            "  warnings.warn(\n"
          ]
        },
        {
          "data": {
            "text/plain": [
              "array([41895.66666667])"
            ]
          },
          "execution_count": 27,
          "metadata": {},
          "output_type": "execute_result"
        }
      ],
      "source": [
        "rf.predict([arr])"
      ]
    },
    {
      "cell_type": "code",
      "execution_count": 28,
      "metadata": {
        "id": "ON_W_MsXmsbV"
      },
      "outputs": [],
      "source": [
        "import pickle\n",
        "filename='model.pkl'\n",
        "pickle.dump(rf,open(filename,'wb'))"
      ]
    },
    {
      "cell_type": "code",
      "execution_count": 29,
      "metadata": {},
      "outputs": [],
      "source": [
        "with open(filename, 'rb') as f:\n",
        "    classification_dict = pickle.load(f)"
      ]
    },
    {
      "cell_type": "code",
      "execution_count": 31,
      "metadata": {},
      "outputs": [
        {
          "name": "stderr",
          "output_type": "stream",
          "text": [
            "c:\\Users\\salman\\OneDrive\\Desktop\\Bytecamp-hackethon\\env\\lib\\site-packages\\sklearn\\base.py:439: UserWarning: X does not have valid feature names, but RandomForestRegressor was fitted with feature names\n",
            "  warnings.warn(\n"
          ]
        },
        {
          "data": {
            "text/plain": [
              "array([41895.66666667])"
            ]
          },
          "execution_count": 31,
          "metadata": {},
          "output_type": "execute_result"
        }
      ],
      "source": [
        "classification_dict.predict([arr])"
      ]
    },
    {
      "cell_type": "code",
      "execution_count": 32,
      "metadata": {},
      "outputs": [
        {
          "data": {
            "text/plain": [
              "array([31500,     0,     0,     0,     0,     0,     0,     0,     0,\n",
              "           0,     0,     0,     0,     0,     0,     0,     0,     0,\n",
              "           0,     1,     0,     0,     0,     0,     0,     0,     0,\n",
              "           0,     0,     0,     0,     0,     0,     0,     0,     0,\n",
              "           0,     0,     1,     0,     0,     0,     0,     0,     0,\n",
              "           0,     0,     0,     0,     0,     0,     0,     0,     0,\n",
              "           0,     0,     0,     0,     0,     0,     0,     0,     0,\n",
              "           0,     0,     0,     0,     0,     0,     0,     0,     0,\n",
              "           0,     1,     0])"
            ]
          },
          "execution_count": 32,
          "metadata": {},
          "output_type": "execute_result"
        }
      ],
      "source": [
        "arr"
      ]
    },
    {
      "cell_type": "code",
      "execution_count": null,
      "metadata": {},
      "outputs": [],
      "source": []
    }
  ],
  "metadata": {
    "colab": {
      "provenance": []
    },
    "kernelspec": {
      "display_name": "Python 3",
      "name": "python3"
    },
    "language_info": {
      "codemirror_mode": {
        "name": "ipython",
        "version": 3
      },
      "file_extension": ".py",
      "mimetype": "text/x-python",
      "name": "python",
      "nbconvert_exporter": "python",
      "pygments_lexer": "ipython3",
      "version": "3.9.7"
    }
  },
  "nbformat": 4,
  "nbformat_minor": 0
}
